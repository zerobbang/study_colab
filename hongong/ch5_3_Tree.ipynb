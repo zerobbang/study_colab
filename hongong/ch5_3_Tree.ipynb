{
  "nbformat": 4,
  "nbformat_minor": 0,
  "metadata": {
    "colab": {
      "name": "ch5_3_Tree.ipynb",
      "provenance": [],
      "authorship_tag": "ABX9TyOTtxcZJKmYvO8TFbIqoMya",
      "include_colab_link": true
    },
    "kernelspec": {
      "name": "python3",
      "display_name": "Python 3"
    },
    "language_info": {
      "name": "python"
    }
  },
  "cells": [
    {
      "cell_type": "markdown",
      "metadata": {
        "id": "view-in-github",
        "colab_type": "text"
      },
      "source": [
        "<a href=\"https://colab.research.google.com/github/zerobbang/study_colab/blob/main/hongong/ch5_3_Tree.ipynb\" target=\"_parent\"><img src=\"https://colab.research.google.com/assets/colab-badge.svg\" alt=\"Open In Colab\"/></a>"
      ]
    },
    {
      "cell_type": "markdown",
      "source": [
        "# 트리의 앙상블"
      ],
      "metadata": {
        "id": "8Dt84p5HmQtj"
      }
    },
    {
      "cell_type": "markdown",
      "source": [
        "- 흐름 : GBM -> XGBoost -> LightGBM \n",
        " - 모델 개발 속도가 개선이 되었는가?\n",
        " - 모델의 성능이 개선이 되었는가?\n",
        "\n",
        " - 참고) TabNet (2019) - 딥러닝 컨셉"
      ],
      "metadata": {
        "id": "4wC8Car7mSJa"
      }
    },
    {
      "cell_type": "markdown",
      "source": [
        "## 랜덤 포레스트\n",
        "- 결정 트리 모델을 여러개 사용하여 학습하고 결과를 합산하여 예측을 한다."
      ],
      "metadata": {
        "id": "BpI_u-dEn-OZ"
      }
    },
    {
      "cell_type": "markdown",
      "source": [
        "- 데이터 준비"
      ],
      "metadata": {
        "id": "IT2p5HjVpLDQ"
      }
    },
    {
      "cell_type": "code",
      "execution_count": 1,
      "metadata": {
        "id": "PFbLMVksmLTC"
      },
      "outputs": [],
      "source": [
        "import numpy as np\n",
        "import pandas as pd\n",
        "from sklearn.model_selection import train_test_split\n",
        "\n",
        "wine = pd.read_csv('https://bit.ly/wine_csv_data')\n",
        "\n",
        "data = wine[['alcohol', 'sugar', 'pH']].to_numpy()\n",
        "target = wine['class'].to_numpy()\n",
        "\n",
        "train_input, test_input, train_target, test_target = train_test_split(data, \n",
        "                                                                      target, \n",
        "                                                                      test_size=0.2, \n",
        "                                                                      random_state=42)"
      ]
    },
    {
      "cell_type": "markdown",
      "source": [
        "- 교차 검증 수행"
      ],
      "metadata": {
        "id": "Kroht9otpM2g"
      }
    },
    {
      "cell_type": "code",
      "source": [
        "from sklearn.model_selection import cross_validate\n",
        "from sklearn.ensemble import RandomForestClassifier\n",
        "rf = RandomForestClassifier(n_jobs = -1, random_state=42)\n",
        "scores = cross_validate(rf, train_input, train_target,\n",
        "                        return_train_score = True, n_jobs = -1)\n",
        "print(np.mean(scores['train_score']), np.mean(scores['test_score']))"
      ],
      "metadata": {
        "colab": {
          "base_uri": "https://localhost:8080/"
        },
        "id": "nV1GOV83pPyA",
        "outputId": "236b587f-c843-4cb4-af99-7329274be6d2"
      },
      "execution_count": 5,
      "outputs": [
        {
          "output_type": "stream",
          "name": "stdout",
          "text": [
            "0.9973541965122431 0.8905151032797809\n"
          ]
        }
      ]
    },
    {
      "cell_type": "code",
      "source": [
        "rf.fit(train_input,train_target)\n",
        "print(rf.feature_importances_)"
      ],
      "metadata": {
        "colab": {
          "base_uri": "https://localhost:8080/"
        },
        "id": "UDpeKQirpmpo",
        "outputId": "2b87ecfb-429c-4a40-d06c-ec323c76d2d4"
      },
      "execution_count": 6,
      "outputs": [
        {
          "output_type": "stream",
          "name": "stdout",
          "text": [
            "[0.23167441 0.50039841 0.26792718]\n"
          ]
        }
      ]
    },
    {
      "cell_type": "markdown",
      "source": [
        "- OOB 샘플\n",
        "  - 랜덤 포레스트는 훈련 세트에서 중복을 허용하여 부트스트랩 샘플을 만들어 결정 트리 훈련\n",
        "  - 그때 부트스트랩 샘플에 포함되지 않고 남는 샘플을 의미\n",
        "  - 이 샘플로 부트스트랩 샘플로 훈련한 결정 트리를 평가하는 검증 세트의 역할을 한다."
      ],
      "metadata": {
        "id": "q9cXbRFq0ecP"
      }
    },
    {
      "cell_type": "code",
      "source": [
        "rf = RandomForestClassifier(oob_score = True, n_jobs = -1, random_state=42)\n",
        "rf.fit(train_input,train_target)\n",
        "print(rf.oob_score_)"
      ],
      "metadata": {
        "colab": {
          "base_uri": "https://localhost:8080/"
        },
        "id": "OFU6qDxrqNB-",
        "outputId": "39c149bb-c7ce-4005-ea76-9a5fd489585f"
      },
      "execution_count": 13,
      "outputs": [
        {
          "output_type": "stream",
          "name": "stdout",
          "text": [
            "0.8934000384837406\n"
          ]
        }
      ]
    },
    {
      "cell_type": "markdown",
      "source": [
        "## 그레이디언트 부스팅 Gradient Boosting"
      ],
      "metadata": {
        "id": "eb_Hy5DDq7EY"
      }
    },
    {
      "cell_type": "markdown",
      "source": [
        "- 처음은 깊이 낮은 결정 트리를 사용하고 점차적으로 깊이를 늘려가면서 오차를 보완하는 방식으로 앙상블 하는 방법\n",
        "  - 깊이가 얕은 트리 사용\n",
        "  - 학습률 매개변수로 속도를 조절\n",
        "  - 속도가 느리다는 단점 존재"
      ],
      "metadata": {
        "id": "aTzX0xN4rFXm"
      }
    },
    {
      "cell_type": "code",
      "source": [
        "from sklearn.ensemble import GradientBoostingClassifier\n",
        "gb = GradientBoostingClassifier(random_state=42)\n",
        "scores = cross_validate(gb, train_input, train_target,\n",
        "                        return_train_score=True, n_jobs = -1)\n",
        "print(np.mean(scores['train_score']), np.mean(scores['test_score']))"
      ],
      "metadata": {
        "colab": {
          "base_uri": "https://localhost:8080/"
        },
        "id": "EJ1mH2yYqzzl",
        "outputId": "957671bf-041e-4477-ef34-0a69beab19eb"
      },
      "execution_count": 10,
      "outputs": [
        {
          "output_type": "stream",
          "name": "stdout",
          "text": [
            "0.8881086892152563 0.8720430147331015\n"
          ]
        }
      ]
    },
    {
      "cell_type": "markdown",
      "source": [
        "-- 과대적합이 거의 되지 않았다"
      ],
      "metadata": {
        "id": "2Iz890me1TL2"
      }
    },
    {
      "cell_type": "markdown",
      "source": [
        "- 학습률을 증가시키고 트리의 개수를 늘려도 보자"
      ],
      "metadata": {
        "id": "4mFVY7A01b6N"
      }
    },
    {
      "cell_type": "code",
      "source": [
        "gb = GradientBoostingClassifier(n_estimators = 500, learning_rate = 0.2, random_state=42)\n",
        "scores = cross_validate(gb, train_input, train_target,\n",
        "                        return_train_score=True, n_jobs = -1)\n",
        "print(np.mean(scores['train_score']), np.mean(scores['test_score']))"
      ],
      "metadata": {
        "colab": {
          "base_uri": "https://localhost:8080/"
        },
        "id": "dOVBFeTDtXcd",
        "outputId": "5c4a5ea8-fc37-4fd5-dd71-511b2541fc45"
      },
      "execution_count": 12,
      "outputs": [
        {
          "output_type": "stream",
          "name": "stdout",
          "text": [
            "0.9464595437171814 0.8780082549788999\n"
          ]
        }
      ]
    },
    {
      "cell_type": "markdown",
      "source": [
        "-- 결정트리 개수를 늘렸어도 과대적합을 잘 잡고 있다. => 그레이디언트 부스팅은 결정 트리의 개수를 늘려도 과대적합에 강하다."
      ],
      "metadata": {
        "id": "lJPJtSG31hTl"
      }
    }
  ]
}