{
  "nbformat": 4,
  "nbformat_minor": 0,
  "metadata": {
    "colab": {
      "name": "ch5_2__CrossValidation.ipynb",
      "provenance": [],
      "collapsed_sections": [
        "ijx-GX00OYRu",
        "ewHMYt4HTX0p",
        "2KRp2-ovw-9r"
      ],
      "authorship_tag": "ABX9TyP3kE7plLLsBlVYmusSaKbZ",
      "include_colab_link": true
    },
    "kernelspec": {
      "name": "python3",
      "display_name": "Python 3"
    },
    "language_info": {
      "name": "python"
    }
  },
  "cells": [
    {
      "cell_type": "markdown",
      "metadata": {
        "id": "view-in-github",
        "colab_type": "text"
      },
      "source": [
        "<a href=\"https://colab.research.google.com/github/zerobbang/study_colab/blob/main/hongong/ch5_2__CrossValidation.ipynb\" target=\"_parent\"><img src=\"https://colab.research.google.com/assets/colab-badge.svg\" alt=\"Open In Colab\"/></a>"
      ]
    },
    {
      "cell_type": "markdown",
      "source": [
        "# 교차 검증과 그리드 서치"
      ],
      "metadata": {
        "id": "UsSXLJXOM1Qw"
      }
    },
    {
      "cell_type": "markdown",
      "source": [
        "# 검증 세트"
      ],
      "metadata": {
        "id": "ijx-GX00OYRu"
      }
    },
    {
      "cell_type": "markdown",
      "source": [
        "전체 데이터 = 훈련 세트 60% + 테스트 세트 20% + 검증 세트 20%"
      ],
      "metadata": {
        "id": "20iSPYggjKXk"
      }
    },
    {
      "cell_type": "markdown",
      "source": [
        "- 데이터 준비"
      ],
      "metadata": {
        "id": "wCAeDzbwg-v_"
      }
    },
    {
      "cell_type": "code",
      "source": [
        "import pandas as pd\n",
        "wine = pd.read_csv('https://bit.ly/wine_csv_data')\n",
        "wine.info()"
      ],
      "metadata": {
        "colab": {
          "base_uri": "https://localhost:8080/"
        },
        "id": "Ik_23KAVM0uo",
        "outputId": "bb39501e-4b1f-41dc-cd8f-6aa12eb0bc0b"
      },
      "execution_count": 50,
      "outputs": [
        {
          "output_type": "stream",
          "name": "stdout",
          "text": [
            "<class 'pandas.core.frame.DataFrame'>\n",
            "RangeIndex: 6497 entries, 0 to 6496\n",
            "Data columns (total 4 columns):\n",
            " #   Column   Non-Null Count  Dtype  \n",
            "---  ------   --------------  -----  \n",
            " 0   alcohol  6497 non-null   float64\n",
            " 1   sugar    6497 non-null   float64\n",
            " 2   pH       6497 non-null   float64\n",
            " 3   class    6497 non-null   float64\n",
            "dtypes: float64(4)\n",
            "memory usage: 203.2 KB\n"
          ]
        }
      ]
    },
    {
      "cell_type": "markdown",
      "source": [
        "데이터 처리를 위해 numpy 배열로 변환한다."
      ],
      "metadata": {
        "id": "-HK-naGMhLWe"
      }
    },
    {
      "cell_type": "code",
      "source": [
        "data = wine[['alcohol','sugar','pH']].to_numpy()\n",
        "target = wine['class'].to_numpy()"
      ],
      "metadata": {
        "id": "jn8ysMrCQPbK"
      },
      "execution_count": 51,
      "outputs": []
    },
    {
      "cell_type": "markdown",
      "source": [
        "- 훈련 세트와 테스트 세트 분류\n",
        "  - 데이터를 train(훈련) 세트와 test(테스트) 세트로 나눈다\n",
        "  - 다시 train 데이터를 sub(훈련) 세트와 val(검증) 세트로 나눈다.\n",
        "  - sub와 val로 나눌때 train의 20%를 val로 분류한다."
      ],
      "metadata": {
        "id": "q9gv_GCihTlG"
      }
    },
    {
      "cell_type": "code",
      "source": [
        "from sklearn.model_selection import train_test_split\n",
        "train_input, test_input, train_target, test_target = train_test_split(data, target,random_state = 42)"
      ],
      "metadata": {
        "id": "_cWrvA7pQYrs"
      },
      "execution_count": 56,
      "outputs": []
    },
    {
      "cell_type": "code",
      "source": [
        "sub_input, val_input, sub_target, val_target = train_test_split(train_input, train_target,test_size = 0.2,random_state = 42)"
      ],
      "metadata": {
        "id": "-PlV03EDRxtp"
      },
      "execution_count": 57,
      "outputs": []
    },
    {
      "cell_type": "code",
      "source": [
        "print(sub_input.shape, val_input.shape)"
      ],
      "metadata": {
        "colab": {
          "base_uri": "https://localhost:8080/"
        },
        "id": "n1EX2IOiQ8Gc",
        "outputId": "590d29fb-3f04-4559-b5fe-5bb4b46f91ea"
      },
      "execution_count": 58,
      "outputs": [
        {
          "output_type": "stream",
          "name": "stdout",
          "text": [
            "(3897, 3) (975, 3)\n"
          ]
        }
      ]
    },
    {
      "cell_type": "markdown",
      "source": [
        "- 모델 학습 및 테스트"
      ],
      "metadata": {
        "id": "kr1T-YLMRTVK"
      }
    },
    {
      "cell_type": "code",
      "source": [
        "from sklearn.tree import DecisionTreeClassifier\n",
        "dt = DecisionTreeClassifier()\n",
        "dt.fit(sub_input,sub_target)\n",
        "print(dt.score(sub_input,sub_target))\n",
        "print(dt.score(val_input, val_target))"
      ],
      "metadata": {
        "colab": {
          "base_uri": "https://localhost:8080/"
        },
        "id": "Oz0tqkeORA4k",
        "outputId": "d8691cee-73ef-4ff4-e8b4-eb6d5ce8c982"
      },
      "execution_count": 59,
      "outputs": [
        {
          "output_type": "stream",
          "name": "stdout",
          "text": [
            "0.997947138824737\n",
            "0.841025641025641\n"
          ]
        }
      ]
    },
    {
      "cell_type": "markdown",
      "source": [
        "-- 이 또한 과대적합이다. 이를 해결하기 위해서 매개변수를 바꿔 좋은 모델을 찾는다. -> 교차검증"
      ],
      "metadata": {
        "id": "u6uqD6xri9XN"
      }
    },
    {
      "cell_type": "markdown",
      "source": [
        "# 교차 검증\n"
      ],
      "metadata": {
        "id": "juUB32jFRlND"
      }
    },
    {
      "cell_type": "markdown",
      "source": [
        "- 교차 검증 목표 : 좋은 모델\n",
        "\n",
        " 여기서 말하는 좋은 모델이란 성능이 좋은 모델을 의미하는 것이 아니라 과대 적합이 아닌 모델, 오차가 작은 모델, 안정적인 모델을 의미한다."
      ],
      "metadata": {
        "id": "I5fmnEAJjaZU"
      }
    },
    {
      "cell_type": "markdown",
      "source": [
        "## 교차 검증 함수"
      ],
      "metadata": {
        "id": "ewHMYt4HTX0p"
      }
    },
    {
      "cell_type": "markdown",
      "source": [
        "- cross_validate() : fit_time, score_time, test_score 키를 가진 딕셔너리를 반환\n",
        "  - fit_time : 훈련하는 시간\n",
        "  - score_time : 검증하는 시간\n",
        "  - defult값은 5 -> 5 - 폴드 교차 검증을 수행"
      ],
      "metadata": {
        "id": "zGW4OApYknpr"
      }
    },
    {
      "cell_type": "code",
      "source": [
        "from sklearn.model_selection import cross_validate\n",
        "scores = cross_validate(dt, train_input, train_target)\n",
        "print(scores)"
      ],
      "metadata": {
        "colab": {
          "base_uri": "https://localhost:8080/"
        },
        "id": "mwqxrHBeRi8b",
        "outputId": "d7de91c5-581f-48e8-b328-028c8627b0fb"
      },
      "execution_count": 16,
      "outputs": [
        {
          "output_type": "stream",
          "name": "stdout",
          "text": [
            "{'fit_time': array([0.01156664, 0.00919127, 0.00933456, 0.00908494, 0.00927401]), 'score_time': array([0.00120854, 0.00109029, 0.00104904, 0.00111794, 0.00111294]), 'test_score': array([0.85333333, 0.85333333, 0.8798768 , 0.85420945, 0.8449692 ])}\n"
          ]
        }
      ]
    },
    {
      "cell_type": "markdown",
      "source": [
        "- 교차 검증의 최종 점수 : test_score 키의 평균을 구한다."
      ],
      "metadata": {
        "id": "X1yUUcKPlQyD"
      }
    },
    {
      "cell_type": "code",
      "source": [
        "import numpy as np\n",
        "print(np.mean(scores['test_score']))"
      ],
      "metadata": {
        "colab": {
          "base_uri": "https://localhost:8080/"
        },
        "id": "F7R1YkHsTpWD",
        "outputId": "d5327ccd-06a0-4635-e762-b228b23ddea5"
      },
      "execution_count": 60,
      "outputs": [
        {
          "output_type": "stream",
          "name": "stdout",
          "text": [
            "0.8598112397751372\n"
          ]
        }
      ]
    },
    {
      "cell_type": "markdown",
      "source": [
        " 기본적으로 cross_validate()는 훈련 세트를 섞어 폴드를 나누지 않는다. \n",
        "\n",
        " 하지만 지금까지 과정은 교차 검증 함수를 사용하기 전에 전체 데이터를 섞은 후 훈련 데이터를 구했기 때문에 섞을 필요가 없었다.\n",
        "\n",
        " 만약 교차 검증 시 훈련 세트를 섞으려면 분할기를 사용한다."
      ],
      "metadata": {
        "id": "_xlLFUnhljYq"
      }
    },
    {
      "cell_type": "markdown",
      "source": [
        "- 분할기를 사용하여 훈련 세트를 섞자. (10 - 폴드 교차 검증 사용)\n",
        "  \n",
        "cross_validate() 함수는 회귀 모델일 경우 KFold 분할기를 사용한다."
      ],
      "metadata": {
        "id": "feSKOL9gT-tI"
      }
    },
    {
      "cell_type": "code",
      "source": [
        "from sklearn.model_selection import StratifiedKFold\n",
        "splitter = StratifiedKFold(n_splits = 10, shuffle =True, random_state=42)\n",
        "scores = cross_validate(dt,train_input,train_target,cv = splitter)\n",
        "print(np.mean(scores['test_score']))"
      ],
      "metadata": {
        "colab": {
          "base_uri": "https://localhost:8080/"
        },
        "id": "UXT-oHP7T3nA",
        "outputId": "7ecc133d-636f-47aa-9c0e-d5a120bd2317"
      },
      "execution_count": 61,
      "outputs": [
        {
          "output_type": "stream",
          "name": "stdout",
          "text": [
            "0.8585817315784159\n"
          ]
        }
      ]
    },
    {
      "cell_type": "markdown",
      "source": [
        "## 하이퍼파라미터 튜닝"
      ],
      "metadata": {
        "id": "NkFE5oyOVDQQ"
      }
    },
    {
      "cell_type": "markdown",
      "source": [
        "- 사용자가 지정해야 하는 파라미터\n",
        "  - 그리드 서치 : 하이퍼파라미터 탐색과 교차 검증을 한 번에 수행 -> 별도로 cross_validate 사용할 일이 없다.\n",
        "  - 랜덤 서치 : 매개 변수를 샘플링할 수 있는 확률 분포 객체 전달\n",
        "\n",
        "-> 자동으로 잡아주는 라이브러리들 등장"
      ],
      "metadata": {
        "id": "GIqw-PyyaEYl"
      }
    },
    {
      "cell_type": "markdown",
      "source": [
        "### 그리드 서치"
      ],
      "metadata": {
        "id": "2KRp2-ovw-9r"
      }
    },
    {
      "cell_type": "markdown",
      "source": [
        "- 탐색할 매개변수와 탐색할 값의 리스트 생성"
      ],
      "metadata": {
        "id": "vamlICvjxKxQ"
      }
    },
    {
      "cell_type": "code",
      "source": [
        "from sklearn.model_selection import GridSearchCV\n",
        "params = {\n",
        "    'min_impurity_decrease' : [0.0001,0.0002,0.0003,0.0004,0.0005]\n",
        "}"
      ],
      "metadata": {
        "id": "FhgimYoCUklh"
      },
      "execution_count": 62,
      "outputs": []
    },
    {
      "cell_type": "markdown",
      "source": [
        "- 그리드 서치 객체 생성"
      ],
      "metadata": {
        "id": "i4aBDQkUxVqz"
      }
    },
    {
      "cell_type": "code",
      "source": [
        "gs = GridSearchCV(DecisionTreeClassifier(random_state = 42), params, n_jobs=-1)"
      ],
      "metadata": {
        "id": "tazqq-eMbNy8"
      },
      "execution_count": 63,
      "outputs": []
    },
    {
      "cell_type": "markdown",
      "source": [
        "(n_jops 모든 코어를 사용하여 시간을 줄임)"
      ],
      "metadata": {
        "id": "NCoLNt9ocd16"
      }
    },
    {
      "cell_type": "markdown",
      "source": [
        "- 그리드 서치 학습"
      ],
      "metadata": {
        "id": "OXZZucupx5Wx"
      }
    },
    {
      "cell_type": "code",
      "source": [
        "gs.fit(train_input, train_target)"
      ],
      "metadata": {
        "colab": {
          "base_uri": "https://localhost:8080/"
        },
        "id": "nVLWuEY9baGk",
        "outputId": "da248bd5-caed-42e6-f899-064114a490ce"
      },
      "execution_count": 64,
      "outputs": [
        {
          "output_type": "execute_result",
          "data": {
            "text/plain": [
              "GridSearchCV(estimator=DecisionTreeClassifier(random_state=42), n_jobs=-1,\n",
              "             param_grid={'min_impurity_decrease': [0.0001, 0.0002, 0.0003,\n",
              "                                                   0.0004, 0.0005]})"
            ]
          },
          "metadata": {},
          "execution_count": 64
        }
      ]
    },
    {
      "cell_type": "code",
      "source": [
        "dt = gs.best_estimator_\n",
        "print(dt.score(train_input,train_target))"
      ],
      "metadata": {
        "colab": {
          "base_uri": "https://localhost:8080/"
        },
        "id": "r_b4ExnObfOD",
        "outputId": "10bfeda6-22d0-4735-dd76-55bb27c89593"
      },
      "execution_count": 65,
      "outputs": [
        {
          "output_type": "stream",
          "name": "stdout",
          "text": [
            "0.9137931034482759\n"
          ]
        }
      ]
    },
    {
      "cell_type": "markdown",
      "source": [
        "-- 그리드 서치는 검증 점수가 가장 높은 모델의 매개변수 조합으로 자동으로 다시 모델을 훈련하여 gs 객체의 best_estimator_ 속성에 저장한다."
      ],
      "metadata": {
        "id": "ZSGkX-1yyItw"
      }
    },
    {
      "cell_type": "code",
      "source": [
        "print(gs.best_params_)"
      ],
      "metadata": {
        "colab": {
          "base_uri": "https://localhost:8080/"
        },
        "id": "3yh9xauDbmOi",
        "outputId": "7fb92424-1c03-4c02-e7c7-5acede0cb4c0"
      },
      "execution_count": 66,
      "outputs": [
        {
          "output_type": "stream",
          "name": "stdout",
          "text": [
            "{'min_impurity_decrease': 0.0003}\n"
          ]
        }
      ]
    },
    {
      "cell_type": "code",
      "source": [
        "print(gs.cv_results_['mean_test_score'])"
      ],
      "metadata": {
        "colab": {
          "base_uri": "https://localhost:8080/"
        },
        "id": "Qm9JSLXNc5Lq",
        "outputId": "488068ff-b0d5-48f8-8d55-8654d1898129"
      },
      "execution_count": 67,
      "outputs": [
        {
          "output_type": "stream",
          "name": "stdout",
          "text": [
            "[0.86843111 0.86925267 0.87315179 0.87212531 0.87130627]\n"
          ]
        }
      ]
    },
    {
      "cell_type": "code",
      "source": [
        "best_index = np.argmax(gs.cv_results_['mean_test_score'])\n",
        "print(gs.cv_results_['params'][best_index])"
      ],
      "metadata": {
        "colab": {
          "base_uri": "https://localhost:8080/"
        },
        "id": "ofzmsjFDc51j",
        "outputId": "e82ad57e-379d-4015-cae9-74a21b3b7827"
      },
      "execution_count": 68,
      "outputs": [
        {
          "output_type": "stream",
          "name": "stdout",
          "text": [
            "{'min_impurity_decrease': 0.0003}\n"
          ]
        }
      ]
    },
    {
      "cell_type": "markdown",
      "source": [
        "### 랜덤서치"
      ],
      "metadata": {
        "id": "EQ6GpeR1d-oJ"
      }
    },
    {
      "cell_type": "markdown",
      "source": [
        "- 많은 매개 변수 조건으로 그리드 서치 수행 시간이 오래 걸릴 경우 랜덤 서치를 사용한다.\n",
        "- 매개변수 값의 목록을 전달하는 것이 아니라 매개변수를 샘플링 할 수 있도록 확률분포를 준다."
      ],
      "metadata": {
        "id": "AkePUgXtytB4"
      }
    },
    {
      "cell_type": "code",
      "source": [
        "# 균등 분포에서 샘플링 한다.\n",
        "from scipy.stats import uniform,randint\n",
        "rgen = randint(0,10)\n",
        "rgen.rvs(10)"
      ],
      "metadata": {
        "colab": {
          "base_uri": "https://localhost:8080/"
        },
        "id": "490yaeJGdqwq",
        "outputId": "19e212bc-958f-4c78-c53b-e59f464ab13d"
      },
      "execution_count": 34,
      "outputs": [
        {
          "output_type": "execute_result",
          "data": {
            "text/plain": [
              "array([8, 7, 5, 1, 9, 4, 8, 1, 3, 0])"
            ]
          },
          "metadata": {},
          "execution_count": 34
        }
      ]
    },
    {
      "cell_type": "markdown",
      "source": [
        "- 샘플링 숫자를 늘려 고르게 샘플링 되었는지 확인"
      ],
      "metadata": {
        "id": "CZQNogMVzUBJ"
      }
    },
    {
      "cell_type": "code",
      "source": [
        "np.unique(rgen.rvs(1000),return_counts = True)"
      ],
      "metadata": {
        "colab": {
          "base_uri": "https://localhost:8080/"
        },
        "id": "lkt2ba0SecER",
        "outputId": "e4c59b45-33fb-48ba-d762-4b5abbabb220"
      },
      "execution_count": 36,
      "outputs": [
        {
          "output_type": "execute_result",
          "data": {
            "text/plain": [
              "(array([0, 1, 2, 3, 4, 5, 6, 7, 8, 9]),\n",
              " array([103,  94, 111,  84,  97, 103,  97, 101,  99, 111]))"
            ]
          },
          "metadata": {},
          "execution_count": 36
        }
      ]
    },
    {
      "cell_type": "code",
      "source": [
        "from sklearn.model_selection import RandomizedSearchCV\n",
        "params = {\n",
        "    'min_impurity_decrease' : uniform(0.0001,0.001),\n",
        "    'max_depth' : randint(20,50)\n",
        "}"
      ],
      "metadata": {
        "id": "PALctvJQejrf"
      },
      "execution_count": 72,
      "outputs": []
    },
    {
      "cell_type": "code",
      "source": [
        "gs = RandomizedSearchCV(DecisionTreeClassifier(random_state = 42), params, n_iter = 100, n_jobs=-1,random_state = 42)\n",
        "gs.fit(train_input,train_target)"
      ],
      "metadata": {
        "colab": {
          "base_uri": "https://localhost:8080/"
        },
        "id": "ibEYwYoMfJ-H",
        "outputId": "10f70858-3c85-49fb-d024-c88102978f0e"
      },
      "execution_count": 74,
      "outputs": [
        {
          "output_type": "execute_result",
          "data": {
            "text/plain": [
              "RandomizedSearchCV(estimator=DecisionTreeClassifier(random_state=42),\n",
              "                   n_iter=100, n_jobs=-1,\n",
              "                   param_distributions={'max_depth': <scipy.stats._distn_infrastructure.rv_frozen object at 0x7ff9ed84c810>,\n",
              "                                        'min_impurity_decrease': <scipy.stats._distn_infrastructure.rv_frozen object at 0x7ff9ed84cc90>},\n",
              "                   random_state=42)"
            ]
          },
          "metadata": {},
          "execution_count": 74
        }
      ]
    },
    {
      "cell_type": "code",
      "source": [
        "gs.best_params_"
      ],
      "metadata": {
        "colab": {
          "base_uri": "https://localhost:8080/"
        },
        "id": "CEZyPJyvfyIx",
        "outputId": "930b31c7-57b3-4058-fb42-cc02ab57fc27"
      },
      "execution_count": 75,
      "outputs": [
        {
          "output_type": "execute_result",
          "data": {
            "text/plain": [
              "{'max_depth': 21, 'min_impurity_decrease': 0.0002818249672071006}"
            ]
          },
          "metadata": {},
          "execution_count": 75
        }
      ]
    },
    {
      "cell_type": "code",
      "source": [
        ""
      ],
      "metadata": {
        "id": "yvkxu5arf635"
      },
      "execution_count": null,
      "outputs": []
    }
  ]
}