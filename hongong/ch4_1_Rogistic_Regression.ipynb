{
  "nbformat": 4,
  "nbformat_minor": 0,
  "metadata": {
    "colab": {
      "name": "ch4_1_Rogistic_Regression.ipynb",
      "provenance": [],
      "collapsed_sections": [],
      "authorship_tag": "ABX9TyPLQXAcoULuAN8qgE1XdYgj",
      "include_colab_link": true
    },
    "kernelspec": {
      "name": "python3",
      "display_name": "Python 3"
    },
    "language_info": {
      "name": "python"
    }
  },
  "cells": [
    {
      "cell_type": "markdown",
      "metadata": {
        "id": "view-in-github",
        "colab_type": "text"
      },
      "source": [
        "<a href=\"https://colab.research.google.com/github/zerobbang/study_colab/blob/main/hongong/ch4_1_Rogistic_Regression.ipynb\" target=\"_parent\"><img src=\"https://colab.research.google.com/assets/colab-badge.svg\" alt=\"Open In Colab\"/></a>"
      ]
    },
    {
      "cell_type": "markdown",
      "source": [
        "# **로지스틱 회귀**\n",
        ": 기초 통계(의학통계) / 머신러닝 분류모형의 기초 모형 / 딥러닝의 초기 모형"
      ],
      "metadata": {
        "id": "YR2OlFqHM12S"
      }
    },
    {
      "cell_type": "markdown",
      "source": [
        "- 생선 데이터 불러오기"
      ],
      "metadata": {
        "id": "SsmKW4wMM8Qf"
      }
    },
    {
      "cell_type": "code",
      "source": [
        "import pandas as pd\n",
        "\n",
        "fish = pd.read_csv('https://bit.ly/fish_csv_data')\n",
        "fish.head()"
      ],
      "metadata": {
        "colab": {
          "base_uri": "https://localhost:8080/",
          "height": 206
        },
        "id": "gY_0iRGdM3aL",
        "outputId": "35973263-948f-430a-cc03-1758788b8524"
      },
      "execution_count": 2,
      "outputs": [
        {
          "output_type": "execute_result",
          "data": {
            "text/plain": [
              "  Species  Weight  Length  Diagonal   Height   Width\n",
              "0   Bream   242.0    25.4      30.0  11.5200  4.0200\n",
              "1   Bream   290.0    26.3      31.2  12.4800  4.3056\n",
              "2   Bream   340.0    26.5      31.1  12.3778  4.6961\n",
              "3   Bream   363.0    29.0      33.5  12.7300  4.4555\n",
              "4   Bream   430.0    29.0      34.0  12.4440  5.1340"
            ],
            "text/html": [
              "\n",
              "  <div id=\"df-85c0617a-6f27-4d89-8026-aeb70dda3c57\">\n",
              "    <div class=\"colab-df-container\">\n",
              "      <div>\n",
              "<style scoped>\n",
              "    .dataframe tbody tr th:only-of-type {\n",
              "        vertical-align: middle;\n",
              "    }\n",
              "\n",
              "    .dataframe tbody tr th {\n",
              "        vertical-align: top;\n",
              "    }\n",
              "\n",
              "    .dataframe thead th {\n",
              "        text-align: right;\n",
              "    }\n",
              "</style>\n",
              "<table border=\"1\" class=\"dataframe\">\n",
              "  <thead>\n",
              "    <tr style=\"text-align: right;\">\n",
              "      <th></th>\n",
              "      <th>Species</th>\n",
              "      <th>Weight</th>\n",
              "      <th>Length</th>\n",
              "      <th>Diagonal</th>\n",
              "      <th>Height</th>\n",
              "      <th>Width</th>\n",
              "    </tr>\n",
              "  </thead>\n",
              "  <tbody>\n",
              "    <tr>\n",
              "      <th>0</th>\n",
              "      <td>Bream</td>\n",
              "      <td>242.0</td>\n",
              "      <td>25.4</td>\n",
              "      <td>30.0</td>\n",
              "      <td>11.5200</td>\n",
              "      <td>4.0200</td>\n",
              "    </tr>\n",
              "    <tr>\n",
              "      <th>1</th>\n",
              "      <td>Bream</td>\n",
              "      <td>290.0</td>\n",
              "      <td>26.3</td>\n",
              "      <td>31.2</td>\n",
              "      <td>12.4800</td>\n",
              "      <td>4.3056</td>\n",
              "    </tr>\n",
              "    <tr>\n",
              "      <th>2</th>\n",
              "      <td>Bream</td>\n",
              "      <td>340.0</td>\n",
              "      <td>26.5</td>\n",
              "      <td>31.1</td>\n",
              "      <td>12.3778</td>\n",
              "      <td>4.6961</td>\n",
              "    </tr>\n",
              "    <tr>\n",
              "      <th>3</th>\n",
              "      <td>Bream</td>\n",
              "      <td>363.0</td>\n",
              "      <td>29.0</td>\n",
              "      <td>33.5</td>\n",
              "      <td>12.7300</td>\n",
              "      <td>4.4555</td>\n",
              "    </tr>\n",
              "    <tr>\n",
              "      <th>4</th>\n",
              "      <td>Bream</td>\n",
              "      <td>430.0</td>\n",
              "      <td>29.0</td>\n",
              "      <td>34.0</td>\n",
              "      <td>12.4440</td>\n",
              "      <td>5.1340</td>\n",
              "    </tr>\n",
              "  </tbody>\n",
              "</table>\n",
              "</div>\n",
              "      <button class=\"colab-df-convert\" onclick=\"convertToInteractive('df-85c0617a-6f27-4d89-8026-aeb70dda3c57')\"\n",
              "              title=\"Convert this dataframe to an interactive table.\"\n",
              "              style=\"display:none;\">\n",
              "        \n",
              "  <svg xmlns=\"http://www.w3.org/2000/svg\" height=\"24px\"viewBox=\"0 0 24 24\"\n",
              "       width=\"24px\">\n",
              "    <path d=\"M0 0h24v24H0V0z\" fill=\"none\"/>\n",
              "    <path d=\"M18.56 5.44l.94 2.06.94-2.06 2.06-.94-2.06-.94-.94-2.06-.94 2.06-2.06.94zm-11 1L8.5 8.5l.94-2.06 2.06-.94-2.06-.94L8.5 2.5l-.94 2.06-2.06.94zm10 10l.94 2.06.94-2.06 2.06-.94-2.06-.94-.94-2.06-.94 2.06-2.06.94z\"/><path d=\"M17.41 7.96l-1.37-1.37c-.4-.4-.92-.59-1.43-.59-.52 0-1.04.2-1.43.59L10.3 9.45l-7.72 7.72c-.78.78-.78 2.05 0 2.83L4 21.41c.39.39.9.59 1.41.59.51 0 1.02-.2 1.41-.59l7.78-7.78 2.81-2.81c.8-.78.8-2.07 0-2.86zM5.41 20L4 18.59l7.72-7.72 1.47 1.35L5.41 20z\"/>\n",
              "  </svg>\n",
              "      </button>\n",
              "      \n",
              "  <style>\n",
              "    .colab-df-container {\n",
              "      display:flex;\n",
              "      flex-wrap:wrap;\n",
              "      gap: 12px;\n",
              "    }\n",
              "\n",
              "    .colab-df-convert {\n",
              "      background-color: #E8F0FE;\n",
              "      border: none;\n",
              "      border-radius: 50%;\n",
              "      cursor: pointer;\n",
              "      display: none;\n",
              "      fill: #1967D2;\n",
              "      height: 32px;\n",
              "      padding: 0 0 0 0;\n",
              "      width: 32px;\n",
              "    }\n",
              "\n",
              "    .colab-df-convert:hover {\n",
              "      background-color: #E2EBFA;\n",
              "      box-shadow: 0px 1px 2px rgba(60, 64, 67, 0.3), 0px 1px 3px 1px rgba(60, 64, 67, 0.15);\n",
              "      fill: #174EA6;\n",
              "    }\n",
              "\n",
              "    [theme=dark] .colab-df-convert {\n",
              "      background-color: #3B4455;\n",
              "      fill: #D2E3FC;\n",
              "    }\n",
              "\n",
              "    [theme=dark] .colab-df-convert:hover {\n",
              "      background-color: #434B5C;\n",
              "      box-shadow: 0px 1px 3px 1px rgba(0, 0, 0, 0.15);\n",
              "      filter: drop-shadow(0px 1px 2px rgba(0, 0, 0, 0.3));\n",
              "      fill: #FFFFFF;\n",
              "    }\n",
              "  </style>\n",
              "\n",
              "      <script>\n",
              "        const buttonEl =\n",
              "          document.querySelector('#df-85c0617a-6f27-4d89-8026-aeb70dda3c57 button.colab-df-convert');\n",
              "        buttonEl.style.display =\n",
              "          google.colab.kernel.accessAllowed ? 'block' : 'none';\n",
              "\n",
              "        async function convertToInteractive(key) {\n",
              "          const element = document.querySelector('#df-85c0617a-6f27-4d89-8026-aeb70dda3c57');\n",
              "          const dataTable =\n",
              "            await google.colab.kernel.invokeFunction('convertToInteractive',\n",
              "                                                     [key], {});\n",
              "          if (!dataTable) return;\n",
              "\n",
              "          const docLinkHtml = 'Like what you see? Visit the ' +\n",
              "            '<a target=\"_blank\" href=https://colab.research.google.com/notebooks/data_table.ipynb>data table notebook</a>'\n",
              "            + ' to learn more about interactive tables.';\n",
              "          element.innerHTML = '';\n",
              "          dataTable['output_type'] = 'display_data';\n",
              "          await google.colab.output.renderOutput(dataTable, element);\n",
              "          const docLink = document.createElement('div');\n",
              "          docLink.innerHTML = docLinkHtml;\n",
              "          element.appendChild(docLink);\n",
              "        }\n",
              "      </script>\n",
              "    </div>\n",
              "  </div>\n",
              "  "
            ]
          },
          "metadata": {},
          "execution_count": 2
        }
      ]
    },
    {
      "cell_type": "markdown",
      "source": [
        "- 데이터 변환"
      ],
      "metadata": {
        "id": "4ro_LVgANla5"
      }
    },
    {
      "cell_type": "markdown",
      "source": [
        "입력 데이터 - 생선 데이터를 numpy를 이용해 배열로 변환한다."
      ],
      "metadata": {
        "id": "9C9dHuNeN3um"
      }
    },
    {
      "cell_type": "code",
      "source": [
        "fish_input = fish[['Weight','Length','Diagonal','Height','Width']].to_numpy()\n",
        "fish_input.shape"
      ],
      "metadata": {
        "colab": {
          "base_uri": "https://localhost:8080/"
        },
        "id": "4FvYXj0hM61Y",
        "outputId": "9ddb9071-d05c-41db-923f-0a0ab2ad3058"
      },
      "execution_count": 3,
      "outputs": [
        {
          "output_type": "execute_result",
          "data": {
            "text/plain": [
              "(159, 5)"
            ]
          },
          "metadata": {},
          "execution_count": 3
        }
      ]
    },
    {
      "cell_type": "markdown",
      "source": [
        "타겟 데이터 - 종에 따라 비교하기 위해 numpy를 이용해 배열로 변환한다."
      ],
      "metadata": {
        "id": "4qYEZYSZOIDv"
      }
    },
    {
      "cell_type": "code",
      "source": [
        "fish_target = fish['Species'].to_numpy()"
      ],
      "metadata": {
        "id": "1h3SkxADN1eH"
      },
      "execution_count": 4,
      "outputs": []
    },
    {
      "cell_type": "markdown",
      "source": [
        "- 훈련 데이터와 테스트 데이터 분류"
      ],
      "metadata": {
        "id": "ejLX8h7AOSWI"
      }
    },
    {
      "cell_type": "code",
      "source": [
        "from sklearn.model_selection import train_test_split\n",
        "train_input, test_input, train_target, test_target = train_test_split( fish_input, fish_target ,random_state = 42)"
      ],
      "metadata": {
        "id": "Fph6PUI3ORNN"
      },
      "execution_count": 5,
      "outputs": []
    },
    {
      "cell_type": "markdown",
      "source": [
        "- 표준화 데이터 전처리\n",
        "\n",
        "  무게는 g, 나머지는 cm단위 -> 단위 처리의 필요성 -> **표준화**"
      ],
      "metadata": {
        "id": "8RYQYt27O2_O"
      }
    },
    {
      "cell_type": "code",
      "source": [
        "from sklearn.preprocessing import StandardScaler\n",
        "ss = StandardScaler()\n",
        "ss.fit(train_input)\n",
        "\n",
        "# 훈련 데이터와 테스트 데이터를 같이 표준화 한다.\n",
        "train_scaled = ss.transform(train_input)\n",
        "test_scaled = ss.transform(test_input)\n",
        "\n",
        "print(train_input[:5])\n",
        "print(train_scaled[:5])"
      ],
      "metadata": {
        "colab": {
          "base_uri": "https://localhost:8080/"
        },
        "id": "F4etcVp3Osyn",
        "outputId": "08f0e8b9-6147-4502-c8aa-0a3250ea5cb5"
      },
      "execution_count": 6,
      "outputs": [
        {
          "output_type": "stream",
          "name": "stdout",
          "text": [
            "[[720.      35.      40.6     16.3618   6.09  ]\n",
            " [500.      45.      48.       6.96     4.896 ]\n",
            " [  7.5     10.5     11.6      1.972    1.16  ]\n",
            " [110.      22.      23.5      5.5225   3.995 ]\n",
            " [140.      20.7     23.2      8.5376   3.2944]]\n",
            "[[ 0.91965782  0.60943175  0.81041221  1.85194896  1.00075672]\n",
            " [ 0.30041219  1.54653445  1.45316551 -0.46981663  0.27291745]\n",
            " [-1.0858536  -1.68646987 -1.70848587 -1.70159849 -2.0044758 ]\n",
            " [-0.79734143 -0.60880176 -0.67486907 -0.82480589 -0.27631471]\n",
            " [-0.71289885 -0.73062511 -0.70092664 -0.0802298  -0.7033869 ]]\n"
          ]
        }
      ]
    },
    {
      "cell_type": "markdown",
      "source": [
        "-> 단위에 따른 왜곡을 없애기 위해 훈련 데이터와 테스트 데이터를 표준화 하였다."
      ],
      "metadata": {
        "id": "VOhDZXjwiqPe"
      }
    },
    {
      "cell_type": "markdown",
      "source": [
        "- k-최근접 이웃 분류 확률 예측"
      ],
      "metadata": {
        "id": "3ALPvpg7Qp3N"
      }
    },
    {
      "cell_type": "code",
      "source": [
        "from sklearn.neighbors import KNeighborsClassifier\n",
        "\n",
        "kn = KNeighborsClassifier(n_neighbors=3)\n",
        "kn.fit(train_scaled, train_target)\n",
        "\n",
        "print(kn.score(train_scaled, train_target))\n",
        "print(kn.score(test_scaled, test_target))"
      ],
      "metadata": {
        "colab": {
          "base_uri": "https://localhost:8080/"
        },
        "id": "jVcrcPPOPlF2",
        "outputId": "2eacdf3e-bfcb-4be7-bfbf-a7645af0cbcc"
      },
      "execution_count": 7,
      "outputs": [
        {
          "output_type": "stream",
          "name": "stdout",
          "text": [
            "0.8907563025210085\n",
            "0.85\n"
          ]
        }
      ]
    },
    {
      "cell_type": "markdown",
      "source": [
        "- 다중분류\n",
        "\n",
        "  proba() 메서드는 클래스별 확률값을 반환한다.\n",
        "  \n",
        "  (decimals는 표시할 소수점 자리수 의미)"
      ],
      "metadata": {
        "id": "8Y_bTH9WQ3JU"
      }
    },
    {
      "cell_type": "code",
      "source": [
        "import numpy as np\n",
        "proba = kn.predict_proba(test_scaled[:5])\n",
        "print(np.round(proba, decimals = 4))\n",
        "print(kn.classes_)"
      ],
      "metadata": {
        "colab": {
          "base_uri": "https://localhost:8080/"
        },
        "id": "24qKGxZxQwl0",
        "outputId": "2da2a5d0-dbec-46ac-ad7e-d00e33a27f60"
      },
      "execution_count": 8,
      "outputs": [
        {
          "output_type": "stream",
          "name": "stdout",
          "text": [
            "[[0.     0.     1.     0.     0.     0.     0.    ]\n",
            " [0.     0.     0.     0.     0.     1.     0.    ]\n",
            " [0.     0.     0.     1.     0.     0.     0.    ]\n",
            " [0.     0.     0.6667 0.     0.3333 0.     0.    ]\n",
            " [0.     0.     0.6667 0.     0.3333 0.     0.    ]]\n",
            "['Bream' 'Parkki' 'Perch' 'Pike' 'Roach' 'Smelt' 'Whitefish']\n"
          ]
        }
      ]
    },
    {
      "cell_type": "markdown",
      "source": [
        "    0번재 데이터 Perch일 확률 1\n",
        "    \n",
        "    ...  \n",
        "\n",
        "    4번재 데이터 Perch일 확률 0.6667, Roach일 확률 0.3333"
      ],
      "metadata": {
        "id": "dIQ3D8sKSeOk"
      }
    },
    {
      "cell_type": "markdown",
      "source": [
        "##### **로지스틱 회귀 모델**"
      ],
      "metadata": {
        "id": "tR5zwzKRbXm8"
      }
    },
    {
      "cell_type": "markdown",
      "source": [
        "- 로지스틱 함수 = 시그모이드 함수 => 확률로 변환해주는 함수  (다중 분류일 경우에는 소프트 맥스 함수 사용)\n",
        "\n",
        "  phi = 1 / ( 1 + e^(-z) )"
      ],
      "metadata": {
        "id": "JkQx8DjtbuDE"
      }
    },
    {
      "cell_type": "code",
      "source": [
        "import numpy as np\n",
        "import matplotlib.pyplot as plt\n",
        "\n",
        "z = np.arange(-5,5,0.1)\n",
        "phi = 1 / (1 + np.exp(-z))\n",
        "\n",
        "fig, ax = plt.subplots()\n",
        "ax.plot(z, phi)\n",
        "ax.set_xlabel('z')\n",
        "ax.set_ylabel('phi')\n",
        "fig.show()"
      ],
      "metadata": {
        "colab": {
          "base_uri": "https://localhost:8080/",
          "height": 278
        },
        "id": "0F8pd1AiRRcl",
        "outputId": "dbb43e6e-00ef-475b-d372-2bf63018cbbe"
      },
      "execution_count": 9,
      "outputs": [
        {
          "output_type": "display_data",
          "data": {
            "text/plain": [
              "<Figure size 432x288 with 1 Axes>"
            ],
            "image/png": "[encoded data removed]"
          },
          "metadata": {
            "needs_background": "light"
          }
        }
      ]
    },
    {
      "cell_type": "markdown",
      "source": [
        "##### 번외) plotly 시각화"
      ],
      "metadata": {
        "id": "p1GHefntwvPX"
      }
    },
    {
      "cell_type": "code",
      "source": [
        "import plotly.express as px\n",
        "import plotly.graph_objects as go\n",
        "\n",
        "fig = go.Figure()\n",
        "fig.add_trace(go.Scatter(x = z, y =phi, mode = 'lines'))\n",
        "fig.add_trace(go.Scatter(x = z, y = [0.5]*len(z), mode='lines'))\n",
        "fig.update_layout(autosize=False,\n",
        "                  width = 700,\n",
        "                  height = 500)\n",
        "fig.show()"
      ],
      "metadata": {
        "colab": {
          "base_uri": "https://localhost:8080/",
          "height": 516
        },
        "id": "9-NtwChZwz3O",
        "outputId": "56b232af-e288-404b-9944-18ba7c6f659c"
      },
      "execution_count": 13,
      "outputs": [
        {
          "output_type": "display_data",
          "data": {
            "text/html": [
              "<html>\n",
              "<head><meta charset=\"utf-8\" /></head>\n",
              "<body>\n",
              "    <div>            <script src=\"https://cdnjs.cloudflare.com/ajax/libs/mathjax/2.7.5/MathJax.js?config=TeX-AMS-MML_SVG\"></script><script type=\"text/javascript\">if (window.MathJax) {MathJax.Hub.Config({SVG: {font: \"STIX-Web\"}});}</script>                <script type=\"text/javascript\">window.PlotlyConfig = {MathJaxConfig: 'local'};</script>\n",
              "        <script src=\"https://cdn.plot.ly/plotly-2.8.3.min.js\"></script>                <div id=\"1f21616e-50f7-42e4-84f9-26e0dd8429f3\" class=\"plotly-graph-div\" style=\"height:500px; width:700px;\"></div>            <script type=\"text/javascript\">                                    window.PLOTLYENV=window.PLOTLYENV || {};                                    if (document.getElementById(\"1f21616e-50f7-42e4-84f9-26e0dd8429f3\")) {                    Plotly.newPlot(                        \"1f21616e-50f7-42e4-84f9-26e0dd8429f3\",                        [{\"mode\":\"lines\",\"x\":[-5.0,-4.9,-4.800000000000001,-4.700000000000001,-4.600000000000001,-4.500000000000002,-4.400000000000002,-4.3000000000000025,-4.200000000000003,-4.100000000000003,-4.0000000000000036,-3.900000000000004,-3.8000000000000043,-3.7000000000000046,-3.600000000000005,-3.5000000000000053,-3.4000000000000057,-3.300000000000006,-3.2000000000000064,-3.1000000000000068,-3.000000000000007,-2.9000000000000075,-2.800000000000008,-2.700000000000008,-2.6000000000000085,-2.500000000000009,-2.4000000000000092,-2.3000000000000096,-2.20000000000001,-2.1000000000000103,-2.0000000000000107,-1.900000000000011,-1.8000000000000114,-1.7000000000000117,-1.600000000000012,-1.5000000000000124,-1.4000000000000128,-1.3000000000000131,-1.2000000000000135,-1.1000000000000139,-1.0000000000000142,-0.9000000000000146,-0.8000000000000149,-0.7000000000000153,-0.6000000000000156,-0.500000000000016,-0.40000000000001634,-0.3000000000000167,-0.20000000000001705,-0.10000000000001741,-1.7763568394002505e-14,0.09999999999998188,0.19999999999998153,0.29999999999998117,0.3999999999999808,0.49999999999998046,0.5999999999999801,0.6999999999999797,0.7999999999999794,0.899999999999979,0.9999999999999787,1.0999999999999783,1.199999999999978,1.2999999999999776,1.3999999999999773,1.499999999999977,1.5999999999999766,1.6999999999999762,1.7999999999999758,1.8999999999999755,1.9999999999999751,2.0999999999999748,2.1999999999999744,2.299999999999974,2.3999999999999737,2.4999999999999734,2.599999999999973,2.6999999999999726,2.7999999999999723,2.899999999999972,2.9999999999999716,3.0999999999999712,3.199999999999971,3.2999999999999705,3.39999999999997,3.49999999999997,3.5999999999999694,3.699999999999969,3.7999999999999687,3.8999999999999684,3.999999999999968,4.099999999999968,4.199999999999967,4.299999999999967,4.399999999999967,4.499999999999966,4.599999999999966,4.6999999999999655,4.799999999999965,4.899999999999965],\"y\":[0.0066928509242848554,0.007391541344281971,0.00816257115315989,0.009013298652847815,0.009951801866904308,0.010986942630593162,0.012128434984274213,0.013386917827664744,0.014774031693273017,0.01630249937144089,0.017986209962091496,0.01984030573407743,0.021881270936130383,0.024127021417669092,0.026596993576865725,0.02931223075135617,0.03229546469845033,0.035571189272635965,0.03916572279676412,0.043107254941085846,0.04742587317756646,0.05215356307841737,0.05732417589886832,0.06297335605699601,0.06913842034334627,0.07585818002124294,0.08317269649392166,0.09112296101485534,0.09975048911968425,0.10909682119561194,0.11920292202211644,0.1301084743629966,0.1418510649004864,0.15446526508353317,0.16798161486607383,0.1824255238063545,0.19781611144141623,0.21416501695743917,0.23147521650098,0.24973989440487981,0.26894142136999233,0.28905049737499305,0.3100255188723844,0.3318122278318305,0.35434369377420094,0.3775406687981417,0.40131233988754406,0.4255574831883369,0.45016600268751783,0.47502081252105566,0.49999999999999556,0.5249791874789355,0.5498339973124733,0.5744425168116544,0.5986876601124473,0.62245933120185,0.6456563062257908,0.6681877721681616,0.6899744811276081,0.7109495026249997,0.7310585786300007,0.7502601055951135,0.7685247834990137,0.7858349830425548,0.8021838885585781,0.8175744761936402,0.8320183851339212,0.8455347349164622,0.8581489350995093,0.8698915256369995,0.8807970779778798,0.8909031788043846,0.9002495108803125,0.9088770389851418,0.9168273035060757,0.9241418199787546,0.9308615796566515,0.937026643943002,0.9426758241011297,0.947846436921581,0.9525741268224319,0.9568927450589126,0.9608342772032344,0.9644288107273629,0.9677045353015485,0.9706877692486428,0.9734030064231335,0.97587297858233,0.9781187290638689,0.9801596942659219,0.982013790037908,0.9836975006285584,0.9852259683067265,0.9866130821723347,0.9878715650157253,0.9890130573694065,0.9900481981330953,0.9909867013471519,0.9918374288468399,0.9926084586557179],\"type\":\"scatter\"},{\"mode\":\"lines\",\"x\":[-5.0,-4.9,-4.800000000000001,-4.700000000000001,-4.600000000000001,-4.500000000000002,-4.400000000000002,-4.3000000000000025,-4.200000000000003,-4.100000000000003,-4.0000000000000036,-3.900000000000004,-3.8000000000000043,-3.7000000000000046,-3.600000000000005,-3.5000000000000053,-3.4000000000000057,-3.300000000000006,-3.2000000000000064,-3.1000000000000068,-3.000000000000007,-2.9000000000000075,-2.800000000000008,-2.700000000000008,-2.6000000000000085,-2.500000000000009,-2.4000000000000092,-2.3000000000000096,-2.20000000000001,-2.1000000000000103,-2.0000000000000107,-1.900000000000011,-1.8000000000000114,-1.7000000000000117,-1.600000000000012,-1.5000000000000124,-1.4000000000000128,-1.3000000000000131,-1.2000000000000135,-1.1000000000000139,-1.0000000000000142,-0.9000000000000146,-0.8000000000000149,-0.7000000000000153,-0.6000000000000156,-0.500000000000016,-0.40000000000001634,-0.3000000000000167,-0.20000000000001705,-0.10000000000001741,-1.7763568394002505e-14,0.09999999999998188,0.19999999999998153,0.29999999999998117,0.3999999999999808,0.49999999999998046,0.5999999999999801,0.6999999999999797,0.7999999999999794,0.899999999999979,0.9999999999999787,1.0999999999999783,1.199999999999978,1.2999999999999776,1.3999999999999773,1.499999999999977,1.5999999999999766,1.6999999999999762,1.7999999999999758,1.8999999999999755,1.9999999999999751,2.0999999999999748,2.1999999999999744,2.299999999999974,2.3999999999999737,2.4999999999999734,2.599999999999973,2.6999999999999726,2.7999999999999723,2.899999999999972,2.9999999999999716,3.0999999999999712,3.199999999999971,3.2999999999999705,3.39999999999997,3.49999999999997,3.5999999999999694,3.699999999999969,3.7999999999999687,3.8999999999999684,3.999999999999968,4.099999999999968,4.199999999999967,4.299999999999967,4.399999999999967,4.499999999999966,4.599999999999966,4.6999999999999655,4.799999999999965,4.899999999999965],\"y\":[0.5,0.5,0.5,0.5,0.5,0.5,0.5,0.5,0.5,0.5,0.5,0.5,0.5,0.5,0.5,0.5,0.5,0.5,0.5,0.5,0.5,0.5,0.5,0.5,0.5,0.5,0.5,0.5,0.5,0.5,0.5,0.5,0.5,0.5,0.5,0.5,0.5,0.5,0.5,0.5,0.5,0.5,0.5,0.5,0.5,0.5,0.5,0.5,0.5,0.5,0.5,0.5,0.5,0.5,0.5,0.5,0.5,0.5,0.5,0.5,0.5,0.5,0.5,0.5,0.5,0.5,0.5,0.5,0.5,0.5,0.5,0.5,0.5,0.5,0.5,0.5,0.5,0.5,0.5,0.5,0.5,0.5,0.5,0.5,0.5,0.5,0.5,0.5,0.5,0.5,0.5,0.5,0.5,0.5,0.5,0.5,0.5,0.5,0.5,0.5],\"type\":\"scatter\"}],                        {\"template\":{\"data\":{\"bar\":[{\"error_x\":{\"color\":\"#2a3f5f\"},\"error_y\":{\"color\":\"#2a3f5f\"},\"marker\":{\"line\":{\"color\":\"#E5ECF6\",\"width\":0.5},\"pattern\":{\"fillmode\":\"overlay\",\"size\":10,\"solidity\":0.2}},\"type\":\"bar\"}],\"barpolar\":[{\"marker\":{\"line\":{\"color\":\"#E5ECF6\",\"width\":0.5},\"pattern\":{\"fillmode\":\"overlay\",\"size\":10,\"solidity\":0.2}},\"type\":\"barpolar\"}],\"carpet\":[{\"aaxis\":{\"endlinecolor\":\"#2a3f5f\",\"gridcolor\":\"white\",\"linecolor\":\"white\",\"minorgridcolor\":\"white\",\"startlinecolor\":\"#2a3f5f\"},\"baxis\":{\"endlinecolor\":\"#2a3f5f\",\"gridcolor\":\"white\",\"linecolor\":\"white\",\"minorgridcolor\":\"white\",\"startlinecolor\":\"#2a3f5f\"},\"type\":\"carpet\"}],\"choropleth\":[{\"colorbar\":{\"outlinewidth\":0,\"ticks\":\"\"},\"type\":\"choropleth\"}],\"contour\":[{\"colorbar\":{\"outlinewidth\":0,\"ticks\":\"\"},\"colorscale\":[[0.0,\"#0d0887\"],[0.1111111111111111,\"#46039f\"],[0.2222222222222222,\"#7201a8\"],[0.3333333333333333,\"#9c179e\"],[0.4444444444444444,\"#bd3786\"],[0.5555555555555556,\"#d8576b\"],[0.6666666666666666,\"#ed7953\"],[0.7777777777777778,\"#fb9f3a\"],[0.8888888888888888,\"#fdca26\"],[1.0,\"#f0f921\"]],\"type\":\"contour\"}],\"contourcarpet\":[{\"colorbar\":{\"outlinewidth\":0,\"ticks\":\"\"},\"type\":\"contourcarpet\"}],\"heatmap\":[{\"colorbar\":{\"outlinewidth\":0,\"ticks\":\"\"},\"colorscale\":[[0.0,\"#0d0887\"],[0.1111111111111111,\"#46039f\"],[0.2222222222222222,\"#7201a8\"],[0.3333333333333333,\"#9c179e\"],[0.4444444444444444,\"#bd3786\"],[0.5555555555555556,\"#d8576b\"],[0.6666666666666666,\"#ed7953\"],[0.7777777777777778,\"#fb9f3a\"],[0.8888888888888888,\"#fdca26\"],[1.0,\"#f0f921\"]],\"type\":\"heatmap\"}],\"heatmapgl\":[{\"colorbar\":{\"outlinewidth\":0,\"ticks\":\"\"},\"colorscale\":[[0.0,\"#0d0887\"],[0.1111111111111111,\"#46039f\"],[0.2222222222222222,\"#7201a8\"],[0.3333333333333333,\"#9c179e\"],[0.4444444444444444,\"#bd3786\"],[0.5555555555555556,\"#d8576b\"],[0.6666666666666666,\"#ed7953\"],[0.7777777777777778,\"#fb9f3a\"],[0.8888888888888888,\"#fdca26\"],[1.0,\"#f0f921\"]],\"type\":\"heatmapgl\"}],\"histogram\":[{\"marker\":{\"pattern\":{\"fillmode\":\"overlay\",\"size\":10,\"solidity\":0.2}},\"type\":\"histogram\"}],\"histogram2d\":[{\"colorbar\":{\"outlinewidth\":0,\"ticks\":\"\"},\"colorscale\":[[0.0,\"#0d0887\"],[0.1111111111111111,\"#46039f\"],[0.2222222222222222,\"#7201a8\"],[0.3333333333333333,\"#9c179e\"],[0.4444444444444444,\"#bd3786\"],[0.5555555555555556,\"#d8576b\"],[0.6666666666666666,\"#ed7953\"],[0.7777777777777778,\"#fb9f3a\"],[0.8888888888888888,\"#fdca26\"],[1.0,\"#f0f921\"]],\"type\":\"histogram2d\"}],\"histogram2dcontour\":[{\"colorbar\":{\"outlinewidth\":0,\"ticks\":\"\"},\"colorscale\":[[0.0,\"#0d0887\"],[0.1111111111111111,\"#46039f\"],[0.2222222222222222,\"#7201a8\"],[0.3333333333333333,\"#9c179e\"],[0.4444444444444444,\"#bd3786\"],[0.5555555555555556,\"#d8576b\"],[0.6666666666666666,\"#ed7953\"],[0.7777777777777778,\"#fb9f3a\"],[0.8888888888888888,\"#fdca26\"],[1.0,\"#f0f921\"]],\"type\":\"histogram2dcontour\"}],\"mesh3d\":[{\"colorbar\":{\"outlinewidth\":0,\"ticks\":\"\"},\"type\":\"mesh3d\"}],\"parcoords\":[{\"line\":{\"colorbar\":{\"outlinewidth\":0,\"ticks\":\"\"}},\"type\":\"parcoords\"}],\"pie\":[{\"automargin\":true,\"type\":\"pie\"}],\"scatter\":[{\"marker\":{\"colorbar\":{\"outlinewidth\":0,\"ticks\":\"\"}},\"type\":\"scatter\"}],\"scatter3d\":[{\"line\":{\"colorbar\":{\"outlinewidth\":0,\"ticks\":\"\"}},\"marker\":{\"colorbar\":{\"outlinewidth\":0,\"ticks\":\"\"}},\"type\":\"scatter3d\"}],\"scattercarpet\":[{\"marker\":{\"colorbar\":{\"outlinewidth\":0,\"ticks\":\"\"}},\"type\":\"scattercarpet\"}],\"scattergeo\":[{\"marker\":{\"colorbar\":{\"outlinewidth\":0,\"ticks\":\"\"}},\"type\":\"scattergeo\"}],\"scattergl\":[{\"marker\":{\"colorbar\":{\"outlinewidth\":0,\"ticks\":\"\"}},\"type\":\"scattergl\"}],\"scattermapbox\":[{\"marker\":{\"colorbar\":{\"outlinewidth\":0,\"ticks\":\"\"}},\"type\":\"scattermapbox\"}],\"scatterpolar\":[{\"marker\":{\"colorbar\":{\"outlinewidth\":0,\"ticks\":\"\"}},\"type\":\"scatterpolar\"}],\"scatterpolargl\":[{\"marker\":{\"colorbar\":{\"outlinewidth\":0,\"ticks\":\"\"}},\"type\":\"scatterpolargl\"}],\"scatterternary\":[{\"marker\":{\"colorbar\":{\"outlinewidth\":0,\"ticks\":\"\"}},\"type\":\"scatterternary\"}],\"surface\":[{\"colorbar\":{\"outlinewidth\":0,\"ticks\":\"\"},\"colorscale\":[[0.0,\"#0d0887\"],[0.1111111111111111,\"#46039f\"],[0.2222222222222222,\"#7201a8\"],[0.3333333333333333,\"#9c179e\"],[0.4444444444444444,\"#bd3786\"],[0.5555555555555556,\"#d8576b\"],[0.6666666666666666,\"#ed7953\"],[0.7777777777777778,\"#fb9f3a\"],[0.8888888888888888,\"#fdca26\"],[1.0,\"#f0f921\"]],\"type\":\"surface\"}],\"table\":[{\"cells\":{\"fill\":{\"color\":\"#EBF0F8\"},\"line\":{\"color\":\"white\"}},\"header\":{\"fill\":{\"color\":\"#C8D4E3\"},\"line\":{\"color\":\"white\"}},\"type\":\"table\"}]},\"layout\":{\"annotationdefaults\":{\"arrowcolor\":\"#2a3f5f\",\"arrowhead\":0,\"arrowwidth\":1},\"autotypenumbers\":\"strict\",\"coloraxis\":{\"colorbar\":{\"outlinewidth\":0,\"ticks\":\"\"}},\"colorscale\":{\"diverging\":[[0,\"#8e0152\"],[0.1,\"#c51b7d\"],[0.2,\"#de77ae\"],[0.3,\"#f1b6da\"],[0.4,\"#fde0ef\"],[0.5,\"#f7f7f7\"],[0.6,\"#e6f5d0\"],[0.7,\"#b8e186\"],[0.8,\"#7fbc41\"],[0.9,\"#4d9221\"],[1,\"#276419\"]],\"sequential\":[[0.0,\"#0d0887\"],[0.1111111111111111,\"#46039f\"],[0.2222222222222222,\"#7201a8\"],[0.3333333333333333,\"#9c179e\"],[0.4444444444444444,\"#bd3786\"],[0.5555555555555556,\"#d8576b\"],[0.6666666666666666,\"#ed7953\"],[0.7777777777777778,\"#fb9f3a\"],[0.8888888888888888,\"#fdca26\"],[1.0,\"#f0f921\"]],\"sequentialminus\":[[0.0,\"#0d0887\"],[0.1111111111111111,\"#46039f\"],[0.2222222222222222,\"#7201a8\"],[0.3333333333333333,\"#9c179e\"],[0.4444444444444444,\"#bd3786\"],[0.5555555555555556,\"#d8576b\"],[0.6666666666666666,\"#ed7953\"],[0.7777777777777778,\"#fb9f3a\"],[0.8888888888888888,\"#fdca26\"],[1.0,\"#f0f921\"]]},\"colorway\":[\"#636efa\",\"#EF553B\",\"#00cc96\",\"#ab63fa\",\"#FFA15A\",\"#19d3f3\",\"#FF6692\",\"#B6E880\",\"#FF97FF\",\"#FECB52\"],\"font\":{\"color\":\"#2a3f5f\"},\"geo\":{\"bgcolor\":\"white\",\"lakecolor\":\"white\",\"landcolor\":\"#E5ECF6\",\"showlakes\":true,\"showland\":true,\"subunitcolor\":\"white\"},\"hoverlabel\":{\"align\":\"left\"},\"hovermode\":\"closest\",\"mapbox\":{\"style\":\"light\"},\"paper_bgcolor\":\"white\",\"plot_bgcolor\":\"#E5ECF6\",\"polar\":{\"angularaxis\":{\"gridcolor\":\"white\",\"linecolor\":\"white\",\"ticks\":\"\"},\"bgcolor\":\"#E5ECF6\",\"radialaxis\":{\"gridcolor\":\"white\",\"linecolor\":\"white\",\"ticks\":\"\"}},\"scene\":{\"xaxis\":{\"backgroundcolor\":\"#E5ECF6\",\"gridcolor\":\"white\",\"gridwidth\":2,\"linecolor\":\"white\",\"showbackground\":true,\"ticks\":\"\",\"zerolinecolor\":\"white\"},\"yaxis\":{\"backgroundcolor\":\"#E5ECF6\",\"gridcolor\":\"white\",\"gridwidth\":2,\"linecolor\":\"white\",\"showbackground\":true,\"ticks\":\"\",\"zerolinecolor\":\"white\"},\"zaxis\":{\"backgroundcolor\":\"#E5ECF6\",\"gridcolor\":\"white\",\"gridwidth\":2,\"linecolor\":\"white\",\"showbackground\":true,\"ticks\":\"\",\"zerolinecolor\":\"white\"}},\"shapedefaults\":{\"line\":{\"color\":\"#2a3f5f\"}},\"ternary\":{\"aaxis\":{\"gridcolor\":\"white\",\"linecolor\":\"white\",\"ticks\":\"\"},\"baxis\":{\"gridcolor\":\"white\",\"linecolor\":\"white\",\"ticks\":\"\"},\"bgcolor\":\"#E5ECF6\",\"caxis\":{\"gridcolor\":\"white\",\"linecolor\":\"white\",\"ticks\":\"\"}},\"title\":{\"x\":0.05},\"xaxis\":{\"automargin\":true,\"gridcolor\":\"white\",\"linecolor\":\"white\",\"ticks\":\"\",\"title\":{\"standoff\":15},\"zerolinecolor\":\"white\",\"zerolinewidth\":2},\"yaxis\":{\"automargin\":true,\"gridcolor\":\"white\",\"linecolor\":\"white\",\"ticks\":\"\",\"title\":{\"standoff\":15},\"zerolinecolor\":\"white\",\"zerolinewidth\":2}}},\"autosize\":false,\"width\":700,\"height\":500},                        {\"responsive\": true}                    ).then(function(){\n",
              "                            \n",
              "var gd = document.getElementById('1f21616e-50f7-42e4-84f9-26e0dd8429f3');\n",
              "var x = new MutationObserver(function (mutations, observer) {{\n",
              "        var display = window.getComputedStyle(gd).display;\n",
              "        if (!display || display === 'none') {{\n",
              "            console.log([gd, 'removed!']);\n",
              "            Plotly.purge(gd);\n",
              "            observer.disconnect();\n",
              "        }}\n",
              "}});\n",
              "\n",
              "// Listen for the removal of the full notebook cells\n",
              "var notebookContainer = gd.closest('#notebook-container');\n",
              "if (notebookContainer) {{\n",
              "    x.observe(notebookContainer, {childList: true});\n",
              "}}\n",
              "\n",
              "// Listen for the clearing of the current output cell\n",
              "var outputEl = gd.closest('.output');\n",
              "if (outputEl) {{\n",
              "    x.observe(outputEl, {childList: true});\n",
              "}}\n",
              "\n",
              "                        })                };                            </script>        </div>\n",
              "</body>\n",
              "</html>"
            ]
          },
          "metadata": {}
        }
      ]
    },
    {
      "cell_type": "markdown",
      "source": [
        "##### 로지스틱 회귀로 이진 분류 수행하기"
      ],
      "metadata": {
        "id": "K1GVC2w2dqMa"
      }
    },
    {
      "cell_type": "code",
      "source": [
        "char_arr = np.array(['A','B','C','D','E'])\n",
        "print(char_arr[[True,False,True,False,False]])"
      ],
      "metadata": {
        "id": "rZMiE5dpcTsk"
      },
      "execution_count": null,
      "outputs": []
    },
    {
      "cell_type": "markdown",
      "source": [
        "- 데이터 전처리\n",
        "\n",
        "1.   종이 Bream 이거나 Smelt인 데이터들만 뽑아내어 bream_smelt_indexs에 저장한다.\n",
        "2.   훈련 세트와 테스트 세트로 표준화하여 분류한다.\n",
        "\n"
      ],
      "metadata": {
        "id": "hDKA2OOmkGvX"
      }
    },
    {
      "cell_type": "code",
      "source": [
        "bream_smelt_indexes = (train_target == 'Bream') | (train_target == 'Smelt')\n",
        "train_bream_smelt = train_scaled[bream_smelt_indexes]\n",
        "target_bream_smelt = train_target[bream_smelt_indexes]"
      ],
      "metadata": {
        "id": "Jdrf4-cEeL05"
      },
      "execution_count": null,
      "outputs": []
    },
    {
      "cell_type": "markdown",
      "source": [
        "- 모델 훈련"
      ],
      "metadata": {
        "id": "-jwpLS70ehUK"
      }
    },
    {
      "cell_type": "markdown",
      "source": [
        "fit( 독립 변수, 종속 변수)"
      ],
      "metadata": {
        "id": "AfSLxBQUlG5U"
      }
    },
    {
      "cell_type": "code",
      "source": [
        "from sklearn.linear_model import LogisticRegression\n",
        "lr = LogisticRegression()\n",
        "\n",
        "lr.fit(train_bream_smelt, target_bream_smelt)"
      ],
      "metadata": {
        "id": "B0835C-negjx"
      },
      "execution_count": null,
      "outputs": []
    },
    {
      "cell_type": "markdown",
      "source": [
        "- 예측"
      ],
      "metadata": {
        "id": "6iF10DjllNnz"
      }
    },
    {
      "cell_type": "markdown",
      "source": [
        "로지스틱 함수를 통해 0.5값을 기준으로 이진 분류를 수행한다."
      ],
      "metadata": {
        "id": "V8VPviIalPzr"
      }
    },
    {
      "cell_type": "code",
      "source": [
        "print(lr.predict(train_bream_smelt[:5]))"
      ],
      "metadata": {
        "id": "w5HrVB96e5OZ"
      },
      "execution_count": null,
      "outputs": []
    },
    {
      "cell_type": "code",
      "source": [
        "print(lr.predict_proba(train_bream_smelt[:5]))\n",
        "print(lr.classes_)"
      ],
      "metadata": {
        "id": "v_eyOLMLfAK6"
      },
      "execution_count": null,
      "outputs": []
    },
    {
      "cell_type": "markdown",
      "source": [
        "-> 예측값과 비교하여 proba 메서드를 통해 클래스별 확률값을 보면 결과가 동일 하다."
      ],
      "metadata": {
        "id": "O5qgzxlrlgEM"
      }
    },
    {
      "cell_type": "markdown",
      "source": [
        "- 방정식의 각 기울기와 상수 구하기\n",
        "\n",
        "  coef_ : 기울기, intercept_ : 상수"
      ],
      "metadata": {
        "id": "gAiFtxg3gNBa"
      }
    },
    {
      "cell_type": "code",
      "source": [
        "print(lr.coef_, lr.intercept_)"
      ],
      "metadata": {
        "id": "MGsp1NddfhKA"
      },
      "execution_count": null,
      "outputs": []
    },
    {
      "cell_type": "markdown",
      "source": [
        "-> -0.4 * (Weight) -0.57 * (Length) -0.663 * (Diagonal) -1.01 * (Height) -0.732 * (Width) - 2.16"
      ],
      "metadata": {
        "id": "ZCK9WOp4mFO7"
      }
    },
    {
      "cell_type": "markdown",
      "source": [
        "- z 값 출력"
      ],
      "metadata": {
        "id": "WAdcJP8Dgcio"
      }
    },
    {
      "cell_type": "code",
      "source": [
        "decisions = lr.decision_function(train_bream_smelt[:5])\n",
        "print(decisions)"
      ],
      "metadata": {
        "id": "Wps0ynEfgUdB"
      },
      "execution_count": null,
      "outputs": []
    },
    {
      "cell_type": "markdown",
      "source": [
        "출력된 z값을 시그모이드 함수를 통과 시키면 확률을 얻을 수 있다.\n",
        "\n",
        "이 과정을 **Python**의 **Scipy** 라이브러리의 **expit** 메서드를 통해서 **시그모이드 함수**를 구현할 수 있다."
      ],
      "metadata": {
        "id": "h2B9mrRLnsG-"
      }
    },
    {
      "cell_type": "code",
      "source": [
        "from scipy.special import expit\n",
        "print(expit(decisions))"
      ],
      "metadata": {
        "id": "WXH5BveNgp9f"
      },
      "execution_count": null,
      "outputs": []
    },
    {
      "cell_type": "markdown",
      "source": [
        "-> 지금 출련된 값과 위에서 다뤘던 다음 코드를 통해 나온 출련된 값의 두번째 열은 같다.\n",
        "\n",
        "\n",
        "```\n",
        "print(lr.predict_proba(train_bream_smelt[:5]))\n",
        "```"
      ],
      "metadata": {
        "id": "GqP0oXHLojOZ"
      }
    },
    {
      "cell_type": "markdown",
      "source": [
        "## 정리 - 이진 분류에서\n",
        "- predict_proba() 메서드는 음성 클래스와 양성 클래스에 대한 확률을 출력\n",
        "- dicision_function() 메서드는 양성 클래스에 대한 z값을 출력\n",
        "- predict을 통해 coef_(기울기), intercept_(상수)값 출력 가능"
      ],
      "metadata": {
        "id": "_m4raAMPhwMa"
      }
    }
  ]
}