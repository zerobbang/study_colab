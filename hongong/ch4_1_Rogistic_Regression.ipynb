{
  "nbformat": 4,
  "nbformat_minor": 0,
  "metadata": {
    "colab": {
      "name": "ch4_1_Rogistic_Regression.ipynb",
      "provenance": [],
      "collapsed_sections": [],
      "authorship_tag": "ABX9TyNw1EizjnaFs0l4+im8LyH+",
      "include_colab_link": true
    },
    "kernelspec": {
      "name": "python3",
      "display_name": "Python 3"
    },
    "language_info": {
      "name": "python"
    }
  },
  "cells": [
    {
      "cell_type": "markdown",
      "metadata": {
        "id": "view-in-github",
        "colab_type": "text"
      },
      "source": [
        "<a href=\"https://colab.research.google.com/github/zerobbang/study_colab/blob/main/hongong/ch4_1_Rogistic_Regression.ipynb\" target=\"_parent\"><img src=\"https://colab.research.google.com/assets/colab-badge.svg\" alt=\"Open In Colab\"/></a>"
      ]
    },
    {
      "cell_type": "markdown",
      "source": [
        "# **로지스틱 회귀**\n",
        ": 기초 통계(의학통계) / 머신러닝 분류모형의 기초 모형 / 딥러닝의 초기 모형"
      ],
      "metadata": {
        "id": "YR2OlFqHM12S"
      }
    },
    {
      "cell_type": "markdown",
      "source": [
        "- 생선 데이터 불러오기"
      ],
      "metadata": {
        "id": "SsmKW4wMM8Qf"
      }
    },
    {
      "cell_type": "code",
      "source": [
        "import pandas as pd\n",
        "\n",
        "fish = pd.read_csv('https://bit.ly/fish_csv_data')\n",
        "fish.head()"
      ],
      "metadata": {
        "colab": {
          "base_uri": "https://localhost:8080/",
          "height": 206
        },
        "id": "gY_0iRGdM3aL",
        "outputId": "ec6e6c45-b49d-4920-98d0-c2d9c9fbfdc1"
      },
      "execution_count": 1,
      "outputs": [
        {
          "output_type": "execute_result",
          "data": {
            "text/plain": [
              "  Species  Weight  Length  Diagonal   Height   Width\n",
              "0   Bream   242.0    25.4      30.0  11.5200  4.0200\n",
              "1   Bream   290.0    26.3      31.2  12.4800  4.3056\n",
              "2   Bream   340.0    26.5      31.1  12.3778  4.6961\n",
              "3   Bream   363.0    29.0      33.5  12.7300  4.4555\n",
              "4   Bream   430.0    29.0      34.0  12.4440  5.1340"
            ],
            "text/html": [
              "\n",
              "  <div id=\"df-f0841a78-a585-4463-ba0e-b0916199a435\">\n",
              "    <div class=\"colab-df-container\">\n",
              "      <div>\n",
              "<style scoped>\n",
              "    .dataframe tbody tr th:only-of-type {\n",
              "        vertical-align: middle;\n",
              "    }\n",
              "\n",
              "    .dataframe tbody tr th {\n",
              "        vertical-align: top;\n",
              "    }\n",
              "\n",
              "    .dataframe thead th {\n",
              "        text-align: right;\n",
              "    }\n",
              "</style>\n",
              "<table border=\"1\" class=\"dataframe\">\n",
              "  <thead>\n",
              "    <tr style=\"text-align: right;\">\n",
              "      <th></th>\n",
              "      <th>Species</th>\n",
              "      <th>Weight</th>\n",
              "      <th>Length</th>\n",
              "      <th>Diagonal</th>\n",
              "      <th>Height</th>\n",
              "      <th>Width</th>\n",
              "    </tr>\n",
              "  </thead>\n",
              "  <tbody>\n",
              "    <tr>\n",
              "      <th>0</th>\n",
              "      <td>Bream</td>\n",
              "      <td>242.0</td>\n",
              "      <td>25.4</td>\n",
              "      <td>30.0</td>\n",
              "      <td>11.5200</td>\n",
              "      <td>4.0200</td>\n",
              "    </tr>\n",
              "    <tr>\n",
              "      <th>1</th>\n",
              "      <td>Bream</td>\n",
              "      <td>290.0</td>\n",
              "      <td>26.3</td>\n",
              "      <td>31.2</td>\n",
              "      <td>12.4800</td>\n",
              "      <td>4.3056</td>\n",
              "    </tr>\n",
              "    <tr>\n",
              "      <th>2</th>\n",
              "      <td>Bream</td>\n",
              "      <td>340.0</td>\n",
              "      <td>26.5</td>\n",
              "      <td>31.1</td>\n",
              "      <td>12.3778</td>\n",
              "      <td>4.6961</td>\n",
              "    </tr>\n",
              "    <tr>\n",
              "      <th>3</th>\n",
              "      <td>Bream</td>\n",
              "      <td>363.0</td>\n",
              "      <td>29.0</td>\n",
              "      <td>33.5</td>\n",
              "      <td>12.7300</td>\n",
              "      <td>4.4555</td>\n",
              "    </tr>\n",
              "    <tr>\n",
              "      <th>4</th>\n",
              "      <td>Bream</td>\n",
              "      <td>430.0</td>\n",
              "      <td>29.0</td>\n",
              "      <td>34.0</td>\n",
              "      <td>12.4440</td>\n",
              "      <td>5.1340</td>\n",
              "    </tr>\n",
              "  </tbody>\n",
              "</table>\n",
              "</div>\n",
              "      <button class=\"colab-df-convert\" onclick=\"convertToInteractive('df-f0841a78-a585-4463-ba0e-b0916199a435')\"\n",
              "              title=\"Convert this dataframe to an interactive table.\"\n",
              "              style=\"display:none;\">\n",
              "        \n",
              "  <svg xmlns=\"http://www.w3.org/2000/svg\" height=\"24px\"viewBox=\"0 0 24 24\"\n",
              "       width=\"24px\">\n",
              "    <path d=\"M0 0h24v24H0V0z\" fill=\"none\"/>\n",
              "    <path d=\"M18.56 5.44l.94 2.06.94-2.06 2.06-.94-2.06-.94-.94-2.06-.94 2.06-2.06.94zm-11 1L8.5 8.5l.94-2.06 2.06-.94-2.06-.94L8.5 2.5l-.94 2.06-2.06.94zm10 10l.94 2.06.94-2.06 2.06-.94-2.06-.94-.94-2.06-.94 2.06-2.06.94z\"/><path d=\"M17.41 7.96l-1.37-1.37c-.4-.4-.92-.59-1.43-.59-.52 0-1.04.2-1.43.59L10.3 9.45l-7.72 7.72c-.78.78-.78 2.05 0 2.83L4 21.41c.39.39.9.59 1.41.59.51 0 1.02-.2 1.41-.59l7.78-7.78 2.81-2.81c.8-.78.8-2.07 0-2.86zM5.41 20L4 18.59l7.72-7.72 1.47 1.35L5.41 20z\"/>\n",
              "  </svg>\n",
              "      </button>\n",
              "      \n",
              "  <style>\n",
              "    .colab-df-container {\n",
              "      display:flex;\n",
              "      flex-wrap:wrap;\n",
              "      gap: 12px;\n",
              "    }\n",
              "\n",
              "    .colab-df-convert {\n",
              "      background-color: #E8F0FE;\n",
              "      border: none;\n",
              "      border-radius: 50%;\n",
              "      cursor: pointer;\n",
              "      display: none;\n",
              "      fill: #1967D2;\n",
              "      height: 32px;\n",
              "      padding: 0 0 0 0;\n",
              "      width: 32px;\n",
              "    }\n",
              "\n",
              "    .colab-df-convert:hover {\n",
              "      background-color: #E2EBFA;\n",
              "      box-shadow: 0px 1px 2px rgba(60, 64, 67, 0.3), 0px 1px 3px 1px rgba(60, 64, 67, 0.15);\n",
              "      fill: #174EA6;\n",
              "    }\n",
              "\n",
              "    [theme=dark] .colab-df-convert {\n",
              "      background-color: #3B4455;\n",
              "      fill: #D2E3FC;\n",
              "    }\n",
              "\n",
              "    [theme=dark] .colab-df-convert:hover {\n",
              "      background-color: #434B5C;\n",
              "      box-shadow: 0px 1px 3px 1px rgba(0, 0, 0, 0.15);\n",
              "      filter: drop-shadow(0px 1px 2px rgba(0, 0, 0, 0.3));\n",
              "      fill: #FFFFFF;\n",
              "    }\n",
              "  </style>\n",
              "\n",
              "      <script>\n",
              "        const buttonEl =\n",
              "          document.querySelector('#df-f0841a78-a585-4463-ba0e-b0916199a435 button.colab-df-convert');\n",
              "        buttonEl.style.display =\n",
              "          google.colab.kernel.accessAllowed ? 'block' : 'none';\n",
              "\n",
              "        async function convertToInteractive(key) {\n",
              "          const element = document.querySelector('#df-f0841a78-a585-4463-ba0e-b0916199a435');\n",
              "          const dataTable =\n",
              "            await google.colab.kernel.invokeFunction('convertToInteractive',\n",
              "                                                     [key], {});\n",
              "          if (!dataTable) return;\n",
              "\n",
              "          const docLinkHtml = 'Like what you see? Visit the ' +\n",
              "            '<a target=\"_blank\" href=https://colab.research.google.com/notebooks/data_table.ipynb>data table notebook</a>'\n",
              "            + ' to learn more about interactive tables.';\n",
              "          element.innerHTML = '';\n",
              "          dataTable['output_type'] = 'display_data';\n",
              "          await google.colab.output.renderOutput(dataTable, element);\n",
              "          const docLink = document.createElement('div');\n",
              "          docLink.innerHTML = docLinkHtml;\n",
              "          element.appendChild(docLink);\n",
              "        }\n",
              "      </script>\n",
              "    </div>\n",
              "  </div>\n",
              "  "
            ]
          },
          "metadata": {},
          "execution_count": 1
        }
      ]
    },
    {
      "cell_type": "markdown",
      "source": [
        "- 데이터 변환"
      ],
      "metadata": {
        "id": "4ro_LVgANla5"
      }
    },
    {
      "cell_type": "markdown",
      "source": [
        "입력 데이터 - 생선 데이터를 numpy를 이용해 배열로 변환한다."
      ],
      "metadata": {
        "id": "9C9dHuNeN3um"
      }
    },
    {
      "cell_type": "code",
      "source": [
        "fish_input = fish[['Weight','Length','Diagonal','Height','Width']].to_numpy()\n",
        "fish_input.shape"
      ],
      "metadata": {
        "colab": {
          "base_uri": "https://localhost:8080/"
        },
        "id": "4FvYXj0hM61Y",
        "outputId": "ce7a012a-5deb-42f4-b169-3da779e4fc66"
      },
      "execution_count": 2,
      "outputs": [
        {
          "output_type": "execute_result",
          "data": {
            "text/plain": [
              "(159, 5)"
            ]
          },
          "metadata": {},
          "execution_count": 2
        }
      ]
    },
    {
      "cell_type": "markdown",
      "source": [
        "타겟 데이터 - 종에 따라 비교하기 위해 numpy를 이용해 배열로 변환한다."
      ],
      "metadata": {
        "id": "4qYEZYSZOIDv"
      }
    },
    {
      "cell_type": "code",
      "source": [
        "fish_target = fish['Species'].to_numpy()"
      ],
      "metadata": {
        "id": "1h3SkxADN1eH"
      },
      "execution_count": 3,
      "outputs": []
    },
    {
      "cell_type": "markdown",
      "source": [
        "- 훈련 데이터와 테스트 데이터 분류"
      ],
      "metadata": {
        "id": "ejLX8h7AOSWI"
      }
    },
    {
      "cell_type": "code",
      "source": [
        "from sklearn.model_selection import train_test_split\n",
        "train_input, test_input, train_target, test_target = train_test_split( fish_input, fish_target ,random_state = 42)"
      ],
      "metadata": {
        "id": "Fph6PUI3ORNN"
      },
      "execution_count": 4,
      "outputs": []
    },
    {
      "cell_type": "markdown",
      "source": [
        "- 표준화 데이터 전처리\n",
        "\n",
        "  무게는 g, 나머지는 cm단위 -> 단위 처리의 필요성 -> **표준화**"
      ],
      "metadata": {
        "id": "8RYQYt27O2_O"
      }
    },
    {
      "cell_type": "code",
      "source": [
        "from sklearn.preprocessing import StandardScaler\n",
        "ss = StandardScaler()\n",
        "ss.fit(train_input)\n",
        "\n",
        "# 훈련 데이터와 테스트 데이터를 같이 표준화 한다.\n",
        "train_scaled = ss.transform(train_input)\n",
        "test_scaled = ss.transform(test_input)\n",
        "\n",
        "print(train_input[:5])\n",
        "print(train_scaled[:5])"
      ],
      "metadata": {
        "colab": {
          "base_uri": "https://localhost:8080/"
        },
        "id": "F4etcVp3Osyn",
        "outputId": "c05c4d2f-1968-4b44-f763-a8dacd848294"
      },
      "execution_count": 5,
      "outputs": [
        {
          "output_type": "stream",
          "name": "stdout",
          "text": [
            "[[720.      35.      40.6     16.3618   6.09  ]\n",
            " [500.      45.      48.       6.96     4.896 ]\n",
            " [  7.5     10.5     11.6      1.972    1.16  ]\n",
            " [110.      22.      23.5      5.5225   3.995 ]\n",
            " [140.      20.7     23.2      8.5376   3.2944]]\n",
            "[[ 0.91965782  0.60943175  0.81041221  1.85194896  1.00075672]\n",
            " [ 0.30041219  1.54653445  1.45316551 -0.46981663  0.27291745]\n",
            " [-1.0858536  -1.68646987 -1.70848587 -1.70159849 -2.0044758 ]\n",
            " [-0.79734143 -0.60880176 -0.67486907 -0.82480589 -0.27631471]\n",
            " [-0.71289885 -0.73062511 -0.70092664 -0.0802298  -0.7033869 ]]\n"
          ]
        }
      ]
    },
    {
      "cell_type": "markdown",
      "source": [
        "-> 단위에 따른 왜곡을 없애기 위해 훈련 데이터와 테스트 데이터를 표준화 하였다."
      ],
      "metadata": {
        "id": "VOhDZXjwiqPe"
      }
    },
    {
      "cell_type": "markdown",
      "source": [
        "- k-최근접 이웃 분류 확률 예측"
      ],
      "metadata": {
        "id": "3ALPvpg7Qp3N"
      }
    },
    {
      "cell_type": "code",
      "source": [
        "from sklearn.neighbors import KNeighborsClassifier\n",
        "\n",
        "kn = KNeighborsClassifier(n_neighbors=3)\n",
        "kn.fit(train_scaled, train_target)\n",
        "\n",
        "print(kn.score(train_scaled, train_target))\n",
        "print(kn.score(test_scaled, test_target))"
      ],
      "metadata": {
        "colab": {
          "base_uri": "https://localhost:8080/"
        },
        "id": "jVcrcPPOPlF2",
        "outputId": "4666374a-c7df-459f-f703-e022b6050830"
      },
      "execution_count": 6,
      "outputs": [
        {
          "output_type": "stream",
          "name": "stdout",
          "text": [
            "0.8907563025210085\n",
            "0.85\n"
          ]
        }
      ]
    },
    {
      "cell_type": "markdown",
      "source": [
        "- 다중분류\n",
        "\n",
        "  proba() 메서드는 클래스별 확률값을 반환한다.\n",
        "  \n",
        "  (decimals는 표시할 소수점 자리수 의미)"
      ],
      "metadata": {
        "id": "8Y_bTH9WQ3JU"
      }
    },
    {
      "cell_type": "code",
      "source": [
        "import numpy as np\n",
        "proba = kn.predict_proba(test_scaled[:5])\n",
        "print(np.round(proba, decimals = 4))\n",
        "print(kn.classes_)"
      ],
      "metadata": {
        "colab": {
          "base_uri": "https://localhost:8080/"
        },
        "id": "24qKGxZxQwl0",
        "outputId": "f48110b4-95fa-4292-97c5-b0531a4ed8c1"
      },
      "execution_count": 7,
      "outputs": [
        {
          "output_type": "stream",
          "name": "stdout",
          "text": [
            "[[0.     0.     1.     0.     0.     0.     0.    ]\n",
            " [0.     0.     0.     0.     0.     1.     0.    ]\n",
            " [0.     0.     0.     1.     0.     0.     0.    ]\n",
            " [0.     0.     0.6667 0.     0.3333 0.     0.    ]\n",
            " [0.     0.     0.6667 0.     0.3333 0.     0.    ]]\n",
            "['Bream' 'Parkki' 'Perch' 'Pike' 'Roach' 'Smelt' 'Whitefish']\n"
          ]
        }
      ]
    },
    {
      "cell_type": "markdown",
      "source": [
        "    0번재 데이터 Perch일 확률 1\n",
        "    \n",
        "    ...  \n",
        "\n",
        "    4번재 데이터 Perch일 확률 0.6667, Roach일 확률 0.3333"
      ],
      "metadata": {
        "id": "dIQ3D8sKSeOk"
      }
    },
    {
      "cell_type": "markdown",
      "source": [
        "##### **로지스틱 회귀 모델**"
      ],
      "metadata": {
        "id": "tR5zwzKRbXm8"
      }
    },
    {
      "cell_type": "markdown",
      "source": [
        "- 로지스틱 함수 = 시그모이드 함수 => 확률로 변환해주는 함수  (다중 분류일 경우에는 소프트 맥스 함수 사용)\n",
        "\n",
        "  phi = 1 / ( 1 + e^(-z) )"
      ],
      "metadata": {
        "id": "JkQx8DjtbuDE"
      }
    },
    {
      "cell_type": "code",
      "source": [
        "import numpy as np\n",
        "import matplotlib.pyplot as plt\n",
        "\n",
        "z = np.arange(-5,5,0.1)\n",
        "phi = 1 / (1 + np.exp(-z))\n",
        "\n",
        "fig, ax = plt.subplots()\n",
        "ax.plot(z, phi)\n",
        "ax.set_xlabel('z')\n",
        "ax.set_ylabel('phi')\n",
        "fig.show()"
      ],
      "metadata": {
        "colab": {
          "base_uri": "https://localhost:8080/",
          "height": 279
        },
        "id": "0F8pd1AiRRcl",
        "outputId": "6cb2f4fc-9d9b-49be-ceb6-5ebf4d4fc6e4"
      },
      "execution_count": 8,
      "outputs": [
        {
          "output_type": "display_data",
          "data": {
            "text/plain": [
              "<Figure size 432x288 with 1 Axes>"
            ],
            "image/png": "[encoded data removed]"
          },
          "metadata": {
            "needs_background": "light"
          }
        }
      ]
    },
    {
      "cell_type": "markdown",
      "source": [
        "##### 로지스틱 회귀로 이진 분류 수행하기"
      ],
      "metadata": {
        "id": "K1GVC2w2dqMa"
      }
    },
    {
      "cell_type": "code",
      "source": [
        "char_arr = np.array(['A','B','C','D','E'])\n",
        "print(char_arr[[True,False,True,False,False]])"
      ],
      "metadata": {
        "colab": {
          "base_uri": "https://localhost:8080/"
        },
        "id": "rZMiE5dpcTsk",
        "outputId": "b5cde586-f8a7-4617-e478-635b831fd59a"
      },
      "execution_count": 9,
      "outputs": [
        {
          "output_type": "stream",
          "name": "stdout",
          "text": [
            "['A' 'C']\n"
          ]
        }
      ]
    },
    {
      "cell_type": "markdown",
      "source": [
        "- 데이터 전처리\n",
        "\n",
        "1.   종이 Bream 이거나 Smelt인 데이터들만 뽑아내어 bream_smelt_indexs에 저장한다.\n",
        "2.   훈련 세트와 테스트 세트로 표준화하여 분류한다.\n",
        "\n"
      ],
      "metadata": {
        "id": "hDKA2OOmkGvX"
      }
    },
    {
      "cell_type": "code",
      "source": [
        "bream_smelt_indexes = (train_target == 'Bream') | (train_target == 'Smelt')\n",
        "train_bream_smelt = train_scaled[bream_smelt_indexes]\n",
        "target_bream_smelt = train_target[bream_smelt_indexes]"
      ],
      "metadata": {
        "id": "Jdrf4-cEeL05"
      },
      "execution_count": 10,
      "outputs": []
    },
    {
      "cell_type": "markdown",
      "source": [
        "- 모델 훈련"
      ],
      "metadata": {
        "id": "-jwpLS70ehUK"
      }
    },
    {
      "cell_type": "markdown",
      "source": [
        "fit( 독립 변수, 종속 변수)"
      ],
      "metadata": {
        "id": "AfSLxBQUlG5U"
      }
    },
    {
      "cell_type": "code",
      "source": [
        "from sklearn.linear_model import LogisticRegression\n",
        "lr = LogisticRegression()\n",
        "\n",
        "lr.fit(train_bream_smelt, target_bream_smelt)"
      ],
      "metadata": {
        "colab": {
          "base_uri": "https://localhost:8080/"
        },
        "id": "B0835C-negjx",
        "outputId": "2fef36f2-788f-4fdc-d7cc-36e20ac94d4e"
      },
      "execution_count": 11,
      "outputs": [
        {
          "output_type": "execute_result",
          "data": {
            "text/plain": [
              "LogisticRegression()"
            ]
          },
          "metadata": {},
          "execution_count": 11
        }
      ]
    },
    {
      "cell_type": "markdown",
      "source": [
        "- 예측"
      ],
      "metadata": {
        "id": "6iF10DjllNnz"
      }
    },
    {
      "cell_type": "markdown",
      "source": [
        "로지스틱 함수를 통해 0.5값을 기준으로 이진 분류를 수행한다."
      ],
      "metadata": {
        "id": "V8VPviIalPzr"
      }
    },
    {
      "cell_type": "code",
      "source": [
        "print(lr.predict(train_bream_smelt[:5]))"
      ],
      "metadata": {
        "colab": {
          "base_uri": "https://localhost:8080/"
        },
        "id": "w5HrVB96e5OZ",
        "outputId": "7de572cf-0879-4d31-b80b-fc7af5443cd6"
      },
      "execution_count": 12,
      "outputs": [
        {
          "output_type": "stream",
          "name": "stdout",
          "text": [
            "['Bream' 'Smelt' 'Bream' 'Bream' 'Bream']\n"
          ]
        }
      ]
    },
    {
      "cell_type": "code",
      "source": [
        "print(lr.predict_proba(train_bream_smelt[:5]))\n",
        "print(lr.classes_)"
      ],
      "metadata": {
        "colab": {
          "base_uri": "https://localhost:8080/"
        },
        "id": "v_eyOLMLfAK6",
        "outputId": "327b577a-a786-4afe-94ae-5bb97413557d"
      },
      "execution_count": 13,
      "outputs": [
        {
          "output_type": "stream",
          "name": "stdout",
          "text": [
            "[[0.99759855 0.00240145]\n",
            " [0.02735183 0.97264817]\n",
            " [0.99486072 0.00513928]\n",
            " [0.98584202 0.01415798]\n",
            " [0.99767269 0.00232731]]\n",
            "['Bream' 'Smelt']\n"
          ]
        }
      ]
    },
    {
      "cell_type": "markdown",
      "source": [
        "-> 예측값과 비교하여 proba 메서드를 통해 클래스별 확률값을 보면 결과가 동일 하다."
      ],
      "metadata": {
        "id": "O5qgzxlrlgEM"
      }
    },
    {
      "cell_type": "markdown",
      "source": [
        "- 방정식의 각 기울기와 상수 구하기\n",
        "\n",
        "  coef_ : 기울기, intercept_ : 상수"
      ],
      "metadata": {
        "id": "gAiFtxg3gNBa"
      }
    },
    {
      "cell_type": "code",
      "source": [
        "print(lr.coef_, lr.intercept_)"
      ],
      "metadata": {
        "colab": {
          "base_uri": "https://localhost:8080/"
        },
        "id": "MGsp1NddfhKA",
        "outputId": "c2b9a3f4-1d01-48e0-b749-57cd13975957"
      },
      "execution_count": 14,
      "outputs": [
        {
          "output_type": "stream",
          "name": "stdout",
          "text": [
            "[[-0.4037798  -0.57620209 -0.66280298 -1.01290277 -0.73168947]] [-2.16155132]\n"
          ]
        }
      ]
    },
    {
      "cell_type": "markdown",
      "source": [
        "-> -0.4 * (Weight) -0.57 * (Length) -0.663 * (Diagonal) -1.01 * (Height) -0.732 * (Width) - 2.16"
      ],
      "metadata": {
        "id": "ZCK9WOp4mFO7"
      }
    },
    {
      "cell_type": "markdown",
      "source": [
        "- z 값 출력"
      ],
      "metadata": {
        "id": "WAdcJP8Dgcio"
      }
    },
    {
      "cell_type": "code",
      "source": [
        "decisions = lr.decision_function(train_bream_smelt[:5])\n",
        "print(decisions)"
      ],
      "metadata": {
        "colab": {
          "base_uri": "https://localhost:8080/"
        },
        "id": "Wps0ynEfgUdB",
        "outputId": "10d715e5-9dab-43a7-df92-65f3603b5756"
      },
      "execution_count": 15,
      "outputs": [
        {
          "output_type": "stream",
          "name": "stdout",
          "text": [
            "[-6.02927744  3.57123907 -5.26568906 -4.24321775 -6.0607117 ]\n"
          ]
        }
      ]
    },
    {
      "cell_type": "markdown",
      "source": [
        "출력된 z값을 시그모이드 함수를 통과 시키면 확률을 얻을 수 있다.\n",
        "\n",
        "이 과정을 **Python**의 **Scipy** 라이브러리의 **expit** 메서드를 통해서 **시그모이드 함수**를 구현할 수 있다."
      ],
      "metadata": {
        "id": "h2B9mrRLnsG-"
      }
    },
    {
      "cell_type": "code",
      "source": [
        "from scipy.special import expit\n",
        "print(expit(decisions))"
      ],
      "metadata": {
        "colab": {
          "base_uri": "https://localhost:8080/"
        },
        "id": "WXH5BveNgp9f",
        "outputId": "1921a503-0958-4482-e83c-e93e871a69ad"
      },
      "execution_count": 16,
      "outputs": [
        {
          "output_type": "stream",
          "name": "stdout",
          "text": [
            "[0.00240145 0.97264817 0.00513928 0.01415798 0.00232731]\n"
          ]
        }
      ]
    },
    {
      "cell_type": "markdown",
      "source": [
        "-> 지금 출련된 값과 위에서 다뤘던 다음 코드를 통해 나온 출련된 값의 두번째 열은 같다.\n",
        "\n",
        "\n",
        "```\n",
        "print(lr.predict_proba(train_bream_smelt[:5]))\n",
        "```"
      ],
      "metadata": {
        "id": "GqP0oXHLojOZ"
      }
    },
    {
      "cell_type": "markdown",
      "source": [
        "## 정리 - 이진 분류에서\n",
        "- predict_proba() 메서드는 음성 클래스와 양성 클래스에 대한 확률을 출력\n",
        "- dicision_function() 메서드는 양성 클래스에 대한 z값을 출력\n",
        "- predict을 통해 coef_(기울기), intercept_(상수)값 출력 가능"
      ],
      "metadata": {
        "id": "_m4raAMPhwMa"
      }
    }
  ]
}