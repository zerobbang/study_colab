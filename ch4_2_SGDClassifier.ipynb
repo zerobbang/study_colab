{
  "nbformat": 4,
  "nbformat_minor": 0,
  "metadata": {
    "colab": {
      "name": "ch4_2_SGDClassifier.ipynb",
      "provenance": [],
      "collapsed_sections": [],
      "authorship_tag": "ABX9TyMceX3LcC5gkA3Fs1FEQxPV",
      "include_colab_link": true
    },
    "kernelspec": {
      "name": "python3",
      "display_name": "Python 3"
    },
    "language_info": {
      "name": "python"
    }
  },
  "cells": [
    {
      "cell_type": "markdown",
      "metadata": {
        "id": "view-in-github",
        "colab_type": "text"
      },
      "source": [
        "<a href=\"https://colab.research.google.com/github/zerobbang/study_colab/blob/main/ch4_2_SGDClassifier.ipynb\" target=\"_parent\"><img src=\"https://colab.research.google.com/assets/colab-badge.svg\" alt=\"Open In Colab\"/></a>"
      ]
    },
    {
      "cell_type": "markdown",
      "source": [
        "# 확률 경사 하강법 (SGD Classifier)"
      ],
      "metadata": {
        "id": "8-L0ioZFCq1V"
      }
    },
    {
      "cell_type": "markdown",
      "source": [
        " 확률 경사 하강법은 간단히 말해서 랜덤하게 샘플 데이터 하나를 뽑아서 최적의 점을 찾아가는 방법이다."
      ],
      "metadata": {
        "id": "BmpT_8Xtlf8X"
      }
    },
    {
      "cell_type": "markdown",
      "source": [
        "- 데이터 준비"
      ],
      "metadata": {
        "id": "flHQX39UbbFZ"
      }
    },
    {
      "cell_type": "code",
      "execution_count": 1,
      "metadata": {
        "colab": {
          "base_uri": "https://localhost:8080/"
        },
        "id": "ZIk0_xhH-64G",
        "outputId": "bbaeaa08-87a0-4a70-88c2-5fd2c62d1584"
      },
      "outputs": [
        {
          "output_type": "stream",
          "name": "stdout",
          "text": [
            "<class 'pandas.core.frame.DataFrame'>\n",
            "RangeIndex: 159 entries, 0 to 158\n",
            "Data columns (total 6 columns):\n",
            " #   Column    Non-Null Count  Dtype  \n",
            "---  ------    --------------  -----  \n",
            " 0   Species   159 non-null    object \n",
            " 1   Weight    159 non-null    float64\n",
            " 2   Length    159 non-null    float64\n",
            " 3   Diagonal  159 non-null    float64\n",
            " 4   Height    159 non-null    float64\n",
            " 5   Width     159 non-null    float64\n",
            "dtypes: float64(5), object(1)\n",
            "memory usage: 7.6+ KB\n"
          ]
        }
      ],
      "source": [
        "import pandas as pd\n",
        "fish = pd.read_csv(\"https://bit.ly/fish_csv_data\")\n",
        "fish.info()"
      ]
    },
    {
      "cell_type": "markdown",
      "source": [
        "입력 데이터와 타겟 데이터를 numpy 배열로 변환한다."
      ],
      "metadata": {
        "id": "mvHHDSBNber4"
      }
    },
    {
      "cell_type": "code",
      "source": [
        "fish_input = fish[['Weight','Length','Diagonal','Height','Width']].to_numpy()\n",
        "fish_target = fish['Species'].to_numpy()"
      ],
      "metadata": {
        "id": "XaTseNDKPz0h"
      },
      "execution_count": 2,
      "outputs": []
    },
    {
      "cell_type": "markdown",
      "source": [
        "- 훈련 세트와 테스트 세트"
      ],
      "metadata": {
        "id": "xcOV-tuKRopI"
      }
    },
    {
      "cell_type": "code",
      "source": [
        "from sklearn.model_selection import train_test_split\n",
        "train_input, test_input, train_target, test_target = train_test_split(fish_input, fish_target, random_state = 42)\n",
        "train_input.shape, test_input.shape, train_target.shape, test_target.shape"
      ],
      "metadata": {
        "colab": {
          "base_uri": "https://localhost:8080/"
        },
        "id": "0_hxL5uwQaVI",
        "outputId": "dccfb463-b8c4-42b6-b96c-eebc6a6fbaf7"
      },
      "execution_count": 3,
      "outputs": [
        {
          "output_type": "execute_result",
          "data": {
            "text/plain": [
              "((119, 5), (40, 5), (119,), (40,))"
            ]
          },
          "metadata": {},
          "execution_count": 3
        }
      ]
    },
    {
      "cell_type": "markdown",
      "source": [
        "- 표준화 처리 \n",
        "  \n",
        "  꼭 훈련 세트에서 학습한 통계값으로 테스트 세트도 변환\n",
        "\n",
        "  키워드 : Data Leakage 방지"
      ],
      "metadata": {
        "id": "iQJ3gQR1RN9J"
      }
    },
    {
      "cell_type": "code",
      "source": [
        "from sklearn.preprocessing import StandardScaler\n",
        "ss = StandardScaler()\n",
        "\n",
        "# 훈련 세트로 학습\n",
        "ss.fit(train_input,train_target)\n",
        "\n",
        "# 학습한 변환기로 훈련 데이터와 학습 데이터 표준화 작업\n",
        "train_scaled = ss.transform(train_input)\n",
        "test_scaled = ss.transform(test_input)"
      ],
      "metadata": {
        "id": "PjHyZZYiRBDS"
      },
      "execution_count": 4,
      "outputs": []
    },
    {
      "cell_type": "markdown",
      "source": [
        "- **모델 학습 - SGDClassifier**\n",
        "\n",
        "  SGDClassifier -> 2개의 매개 변수 지정\n",
        "\n",
        "  -   loss = log  = 로지스틱 손실 함수 지정  (기본값 : hinge)\n",
        "\n",
        "  -   max_iter = 에포크 횟수 지정"
      ],
      "metadata": {
        "id": "6EwUTNHhSZgw"
      }
    },
    {
      "cell_type": "code",
      "source": [
        "from sklearn.linear_model import SGDClassifier\n",
        "\n",
        "sc = SGDClassifier(loss = 'log',max_iter = 40, random_state = 42)"
      ],
      "metadata": {
        "id": "g3Ff-7_9SClg"
      },
      "execution_count": 5,
      "outputs": []
    },
    {
      "cell_type": "markdown",
      "source": [
        "매개변수 값을 dictioncary 형태로 추가하는 방법도 있지만 지양하도록 한다."
      ],
      "metadata": {
        "id": "VS_HtNDicb7i"
      }
    },
    {
      "cell_type": "markdown",
      "source": [
        "훈련 데이터로 학습하고 전처리한 훈려 데이터와 테스트 데이터 테스트 점수 확인"
      ],
      "metadata": {
        "id": "eIipSSC9cv3Y"
      }
    },
    {
      "cell_type": "code",
      "source": [
        "# 모델 학습\n",
        "sc.fit(train_scaled, train_target)\n",
        "\n",
        "# 테스트 점수 확인\n",
        "print(sc.score(train_scaled, train_target))\n",
        "print(sc.score(test_scaled, test_target))"
      ],
      "metadata": {
        "colab": {
          "base_uri": "https://localhost:8080/"
        },
        "id": "_shFyuQdSrGv",
        "outputId": "3ca65d94-208f-43f0-9b80-d072fbde16a2"
      },
      "execution_count": 6,
      "outputs": [
        {
          "output_type": "stream",
          "name": "stdout",
          "text": [
            "0.8403361344537815\n",
            "0.8\n"
          ]
        }
      ]
    },
    {
      "cell_type": "markdown",
      "source": [
        "-> 예상보다 좋은 점수는 아니니 에포크를 횟수를 늘려보자\n"
      ],
      "metadata": {
        "id": "LdgnUxHQeB9O"
      }
    },
    {
      "cell_type": "markdown",
      "source": [
        "- **에포크** - 재반복 / 적절한 에포크 숫자 찾자\n",
        "\n",
        "   (에포크 끝난 곳에서 다시 에포크 반복)"
      ],
      "metadata": {
        "id": "XLCntuyBUqlN"
      }
    },
    {
      "cell_type": "markdown",
      "source": [
        "리스트를 이용해서 에포크 횟수를 늘린다."
      ],
      "metadata": {
        "id": "EMOoC-7Ie61l"
      }
    },
    {
      "cell_type": "code",
      "source": [
        "import numpy as np\n",
        "sc = SGDClassifier(loss = 'log', random_state = 42)\n",
        "train_score=[]\n",
        "test_score=[]\n",
        "classes = np.unique(train_target)"
      ],
      "metadata": {
        "id": "AKOySQCtUWS1"
      },
      "execution_count": 7,
      "outputs": []
    },
    {
      "cell_type": "code",
      "source": [
        "for _ in range(0,300):\n",
        "  sc.partial_fit(train_scaled,train_target,classes=classes)\n",
        "  train_score.append(sc.score(train_scaled,train_target))\n",
        "  test_score.append(sc.score(test_scaled,test_target))"
      ],
      "metadata": {
        "id": "IoGpIa47V86M"
      },
      "execution_count": 8,
      "outputs": []
    },
    {
      "cell_type": "markdown",
      "source": [
        "300번 반복한 훈련 데이터 테스트 점수와 테스트 데이터 테스트 점수를 확인해본다."
      ],
      "metadata": {
        "id": "1kBAKIVLfHWO"
      }
    },
    {
      "cell_type": "code",
      "source": [
        "print(train_score[:5])\n",
        "print(test_score[:5])"
      ],
      "metadata": {
        "colab": {
          "base_uri": "https://localhost:8080/"
        },
        "id": "wCDrLcp4WQcs",
        "outputId": "573ed72d-beb9-4137-aa4d-be96c2371799"
      },
      "execution_count": 9,
      "outputs": [
        {
          "output_type": "stream",
          "name": "stdout",
          "text": [
            "[0.5294117647058824, 0.6218487394957983, 0.6386554621848739, 0.7310924369747899, 0.7226890756302521]\n",
            "[0.65, 0.55, 0.575, 0.7, 0.7]\n"
          ]
        }
      ]
    },
    {
      "cell_type": "markdown",
      "source": [
        "- 상위 5위까지 표시해보자."
      ],
      "metadata": {
        "id": "7QBrOOxef298"
      }
    },
    {
      "cell_type": "code",
      "source": [
        "train_score.sort(reverse=True)\n",
        "test_score.sort(reverse=True)\n",
        "print(train_score[:5])\n",
        "print(test_score[:5])"
      ],
      "metadata": {
        "colab": {
          "base_uri": "https://localhost:8080/"
        },
        "id": "juSW2jXafbS3",
        "outputId": "439a446b-c30f-427a-d81e-028a59cdfa57"
      },
      "execution_count": 10,
      "outputs": [
        {
          "output_type": "stream",
          "name": "stdout",
          "text": [
            "[0.9663865546218487, 0.9663865546218487, 0.9663865546218487, 0.9663865546218487, 0.9663865546218487]\n",
            "[0.925, 0.925, 0.925, 0.925, 0.925]\n"
          ]
        }
      ]
    },
    {
      "cell_type": "markdown",
      "source": [
        "상위 값을 보기 위해 정렬 했기 때문에 시각화하기 전 다시 정렬한다."
      ],
      "metadata": {
        "id": "ZuTMIKMvgNGd"
      }
    },
    {
      "cell_type": "code",
      "source": [
        "train_score.sort()\n",
        "test_score.sort()"
      ],
      "metadata": {
        "id": "YbSgXLBZgY0z"
      },
      "execution_count": 11,
      "outputs": []
    },
    {
      "cell_type": "code",
      "source": [
        "import matplotlib.pyplot as plt\n",
        "fig, ax = plt.subplots()\n",
        "ax.plot(train_score)\n",
        "ax.plot(test_score)\n",
        "ax.set_xlabel('epoch')\n",
        "ax.set_ylabel('accuracy')\n",
        "fig.show()"
      ],
      "metadata": {
        "colab": {
          "base_uri": "https://localhost:8080/",
          "height": 279
        },
        "id": "qGNYiTVIWdkL",
        "outputId": "fb12fabe-58ff-4680-e1b2-c781a733c815"
      },
      "execution_count": 12,
      "outputs": [
        {
          "output_type": "display_data",
          "data": {
            "text/plain": [
              "<Figure size 432x288 with 1 Axes>"
            ],
            "image/png": "[encoded data removed]"
          },
          "metadata": {
            "needs_background": "light"
          }
        }
      ]
    },
    {
      "cell_type": "markdown",
      "source": [
        "주황선 :  테스트 세트\n",
        "\n",
        "파란선 : 훈련 세트\n",
        "\n",
        "극 왼쪽은 훈련 세트 < 테스트 세트 이므로 과소적합, 오른쪽은 훈련 세트 > 테스트 세트 로 과대 적합\n",
        "\n",
        "-> 적절한 에포크값 : 100"
      ],
      "metadata": {
        "id": "QlGg4b_HXK6k"
      }
    },
    {
      "cell_type": "markdown",
      "source": [
        "- 개선 (에포크 값 100 설정)"
      ],
      "metadata": {
        "id": "zX6EtNLMhLu0"
      }
    },
    {
      "cell_type": "code",
      "source": [
        "sc = SGDClassifier(loss='log', max_iter=100, tol=None, random_state=42)\n",
        "sc.fit(train_scaled, train_target)\n",
        "print(sc.score(train_scaled,train_target))\n",
        "print(sc.score(test_scaled,test_target))"
      ],
      "metadata": {
        "colab": {
          "base_uri": "https://localhost:8080/"
        },
        "id": "XFkcrtpIW7cD",
        "outputId": "9ed82839-2c5e-4ac7-e2e2-59384bbe0075"
      },
      "execution_count": 13,
      "outputs": [
        {
          "output_type": "stream",
          "name": "stdout",
          "text": [
            "0.957983193277311\n",
            "0.925\n"
          ]
        }
      ]
    },
    {
      "cell_type": "markdown",
      "source": [
        "그 동안 추출한 테스트 점수 중에서 제일 좋은 점수이다. (성능이 업그레이드)"
      ],
      "metadata": {
        "id": "oWyh16aqX0WG"
      }
    },
    {
      "cell_type": "code",
      "source": [
        ""
      ],
      "metadata": {
        "id": "19DDVh6EpHLd"
      },
      "execution_count": 13,
      "outputs": []
    }
  ]
}